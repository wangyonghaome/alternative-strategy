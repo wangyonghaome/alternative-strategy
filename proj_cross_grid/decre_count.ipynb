{
 "cells": [
  {
   "cell_type": "code",
   "execution_count": 14,
   "metadata": {},
   "outputs": [],
   "source": [
    "import numpy as np\n",
    "import pandas as pd\n",
    "import os\n",
    "from joblib import Parallel, delayed\n",
    "import tushare as ts\n",
    "from data_tools.api import *\n",
    "from utilscht.Data import *\n",
    "import pymysql\n",
    "import click\n",
    "\n",
    "DB_INFO = dict(host='192.168.1.234',\n",
    "               user='winduser',\n",
    "               password='1qaz@WSX',\n",
    "               db='wind')\n",
    "\n",
    "conn = pymysql.connect(**DB_INFO, charset='utf8mb4', cursorclass=pymysql.cursors.DictCursor)"
   ]
  },
  {
   "cell_type": "code",
   "execution_count": 16,
   "metadata": {},
   "outputs": [],
   "source": [
    "# current function to get 1min_freq data\n",
    "def get_stk_data(sid, date):\n",
    "    \n",
    "    try:\n",
    "        raw_bar_dtype = [\n",
    "            ('sid', '<U16'),\n",
    "            ('DataDate', 'i4'),\n",
    "            ('ticktime', 'i4'),\n",
    "            ('pre_close', 'f8'),\n",
    "            ('open', 'f8'),\n",
    "            ('high', 'f8'),\n",
    "            ('low', 'f8'),\n",
    "            ('close', 'f8'),\n",
    "            ('volume', 'f8'),\n",
    "            ('amount', 'f8'),\n",
    "            ('bid_amount', 'f8'),\n",
    "            ('ask_amount', 'f8'),\n",
    "            ('vwap', 'f8'),\n",
    "            ('twap', 'f8'),\n",
    "            ('ret', 'f8')\n",
    "        ]\n",
    "\n",
    "\n",
    "        bar=np.memmap(r\"/share/intern_share/dat/stk_bar/1min/2019/{}/{}.dat\".format(date,sid),dtype=raw_bar_dtype,mode=\"r\")\n",
    "        stock_data=pd.DataFrame(bar)[[\"sid\",\"DataDate\",\"ticktime\",\"open\", \"high\", \"low\", \"close\",\"pre_close\"]]\n",
    "        stock_data[\"ticktime\"]=stock_data.index\n",
    "    except:\n",
    "        try:\n",
    "            stock_data = get_stk_bar(sid, freq=\"1m\", start=date, end=date, fields=[\"open\", \"high\", \"low\", \"close\"])\n",
    "            stock_data = stock_data.reset_index().rename(columns={\"index\": \"datetime\"})\n",
    "            stock_data[\"ticktime\"] = stock_data[\"datetime\"].index\n",
    "            stock_data[\"DataDate\"] = stock_data[\"datetime\"].apply(lambda x:str(x.date()))\n",
    "            del stock_data[\"datetime\"]\n",
    "            stock_data[\"pre_close\"] = get_stk_bar(sid, freq=\"1d\", start=date, end=date, fields=[\"pre_close\"]).values[0][0]\n",
    "            stock_data[\"sid\"] = sid\n",
    "        except:\n",
    "            logging.warning(\"Data Lost for {} on {}\".format(sid,date))\n",
    "    stock_data[\"10min_change\"]=stock_data[\"close\"].pct_change(10)        \n",
    "    return stock_data[stock_data[\"10min_change\"]<-0.02]\n",
    "\n",
    "\n",
    "def get_daily_data(date):\n",
    "    df=query_table(\"DailyBar\",start_date=date,end_date=date,fields=[\"tradable\"])\n",
    "    stk_ls=list(df[\"sid\"][df[\"tradable\"]==1])\n",
    "\n",
    "    results = Parallel(n_jobs=16, verbose=5, backend=\"loky\", batch_size='auto') \\\n",
    "        (delayed(get_stk_data)(sid, date) for sid in stk_ls)\n",
    "    data = pd.concat(results)\n",
    "\n",
    "    return data.sort_values([\"sid\",\"ticktime\"])"
   ]
  },
  {
   "cell_type": "code",
   "execution_count": 20,
   "metadata": {
    "scrolled": true
   },
   "outputs": [
    {
     "name": "stdout",
     "output_type": "stream",
     "text": [
      "20190102\r"
     ]
    },
    {
     "name": "stderr",
     "output_type": "stream",
     "text": [
      "[Parallel(n_jobs=16)]: Using backend LokyBackend with 16 concurrent workers.\n",
      "[Parallel(n_jobs=16)]: Done  40 tasks      | elapsed:    1.3s\n",
      "[Parallel(n_jobs=16)]: Done 216 tasks      | elapsed:    1.9s\n",
      "[Parallel(n_jobs=16)]: Done 1168 tasks      | elapsed:    4.1s\n",
      "[Parallel(n_jobs=16)]: Done 2464 tasks      | elapsed:    7.0s\n",
      "[Parallel(n_jobs=16)]: Done 3553 out of 3553 | elapsed:    9.3s finished\n"
     ]
    },
    {
     "name": "stdout",
     "output_type": "stream",
     "text": [
      "20190103\r"
     ]
    },
    {
     "name": "stderr",
     "output_type": "stream",
     "text": [
      "[Parallel(n_jobs=16)]: Using backend LokyBackend with 16 concurrent workers.\n",
      "[Parallel(n_jobs=16)]: Done  40 tasks      | elapsed:    1.1s\n",
      "[Parallel(n_jobs=16)]: Done 216 tasks      | elapsed:    1.6s\n",
      "[Parallel(n_jobs=16)]: Done 1168 tasks      | elapsed:    3.7s\n",
      "[Parallel(n_jobs=16)]: Done 2464 tasks      | elapsed:    6.4s\n",
      "[Parallel(n_jobs=16)]: Done 3554 out of 3554 | elapsed:    8.7s finished\n"
     ]
    },
    {
     "name": "stdout",
     "output_type": "stream",
     "text": [
      "20190104\r"
     ]
    },
    {
     "name": "stderr",
     "output_type": "stream",
     "text": [
      "[Parallel(n_jobs=16)]: Using backend LokyBackend with 16 concurrent workers.\n",
      "[Parallel(n_jobs=16)]: Done  40 tasks      | elapsed:    1.1s\n",
      "[Parallel(n_jobs=16)]: Done 216 tasks      | elapsed:    1.6s\n",
      "[Parallel(n_jobs=16)]: Done 1168 tasks      | elapsed:    4.1s\n",
      "[Parallel(n_jobs=16)]: Done 2464 tasks      | elapsed:    6.9s\n",
      "[Parallel(n_jobs=16)]: Done 3554 out of 3554 | elapsed:    9.1s finished\n"
     ]
    },
    {
     "name": "stdout",
     "output_type": "stream",
     "text": [
      "20190107\r"
     ]
    },
    {
     "name": "stderr",
     "output_type": "stream",
     "text": [
      "[Parallel(n_jobs=16)]: Using backend LokyBackend with 16 concurrent workers.\n",
      "[Parallel(n_jobs=16)]: Done  40 tasks      | elapsed:    1.1s\n",
      "[Parallel(n_jobs=16)]: Done 216 tasks      | elapsed:    1.8s\n",
      "[Parallel(n_jobs=16)]: Done 720 tasks      | elapsed:    2.9s\n",
      "[Parallel(n_jobs=16)]: Done 1368 tasks      | elapsed:    4.3s\n",
      "[Parallel(n_jobs=16)]: Done 2160 tasks      | elapsed:    5.9s\n",
      "[Parallel(n_jobs=16)]: Done 3096 tasks      | elapsed:    7.9s\n",
      "[Parallel(n_jobs=16)]: Done 3553 out of 3553 | elapsed:    8.8s finished\n"
     ]
    },
    {
     "name": "stdout",
     "output_type": "stream",
     "text": [
      "20190108\r"
     ]
    },
    {
     "name": "stderr",
     "output_type": "stream",
     "text": [
      "[Parallel(n_jobs=16)]: Using backend LokyBackend with 16 concurrent workers.\n",
      "[Parallel(n_jobs=16)]: Done  40 tasks      | elapsed:    1.1s\n",
      "[Parallel(n_jobs=16)]: Done 216 tasks      | elapsed:    1.7s\n",
      "[Parallel(n_jobs=16)]: Done 720 tasks      | elapsed:    2.8s\n",
      "[Parallel(n_jobs=16)]: Done 1368 tasks      | elapsed:    4.1s\n",
      "[Parallel(n_jobs=16)]: Done 2160 tasks      | elapsed:    5.8s\n",
      "[Parallel(n_jobs=16)]: Done 3096 tasks      | elapsed:    7.8s\n",
      "[Parallel(n_jobs=16)]: Done 3525 out of 3556 | elapsed:    8.7s remaining:    0.1s\n",
      "[Parallel(n_jobs=16)]: Done 3556 out of 3556 | elapsed:    8.7s finished\n"
     ]
    },
    {
     "name": "stdout",
     "output_type": "stream",
     "text": [
      "20190109\r"
     ]
    },
    {
     "name": "stderr",
     "output_type": "stream",
     "text": [
      "[Parallel(n_jobs=16)]: Using backend LokyBackend with 16 concurrent workers.\n",
      "[Parallel(n_jobs=16)]: Done  40 tasks      | elapsed:    1.1s\n",
      "[Parallel(n_jobs=16)]: Done 216 tasks      | elapsed:    1.7s\n",
      "[Parallel(n_jobs=16)]: Done 720 tasks      | elapsed:    3.3s\n",
      "[Parallel(n_jobs=16)]: Done 1368 tasks      | elapsed:    4.7s\n",
      "[Parallel(n_jobs=16)]: Done 2160 tasks      | elapsed:    6.5s\n",
      "[Parallel(n_jobs=16)]: Done 3096 tasks      | elapsed:    8.6s\n",
      "[Parallel(n_jobs=16)]: Done 3525 out of 3556 | elapsed:    9.5s remaining:    0.1s\n",
      "[Parallel(n_jobs=16)]: Done 3556 out of 3556 | elapsed:    9.5s finished\n"
     ]
    },
    {
     "name": "stdout",
     "output_type": "stream",
     "text": [
      "20190110\r"
     ]
    },
    {
     "name": "stderr",
     "output_type": "stream",
     "text": [
      "[Parallel(n_jobs=16)]: Using backend LokyBackend with 16 concurrent workers.\n",
      "[Parallel(n_jobs=16)]: Done  40 tasks      | elapsed:    1.1s\n",
      "[Parallel(n_jobs=16)]: Done 216 tasks      | elapsed:    1.7s\n",
      "[Parallel(n_jobs=16)]: Done 720 tasks      | elapsed:    2.9s\n",
      "[Parallel(n_jobs=16)]: Done 1368 tasks      | elapsed:    4.3s\n",
      "[Parallel(n_jobs=16)]: Done 2160 tasks      | elapsed:    6.1s\n",
      "[Parallel(n_jobs=16)]: Done 3096 tasks      | elapsed:    8.3s\n",
      "[Parallel(n_jobs=16)]: Done 3558 out of 3558 | elapsed:    9.3s finished\n"
     ]
    },
    {
     "name": "stdout",
     "output_type": "stream",
     "text": [
      "20190111\r"
     ]
    },
    {
     "name": "stderr",
     "output_type": "stream",
     "text": [
      "[Parallel(n_jobs=16)]: Using backend LokyBackend with 16 concurrent workers.\n",
      "[Parallel(n_jobs=16)]: Done  40 tasks      | elapsed:    1.1s\n",
      "[Parallel(n_jobs=16)]: Done 180 tasks      | elapsed:    1.7s\n",
      "[Parallel(n_jobs=16)]: Done 656 tasks      | elapsed:    3.1s\n",
      "[Parallel(n_jobs=16)]: Done 1304 tasks      | elapsed:    4.8s\n",
      "[Parallel(n_jobs=16)]: Done 2096 tasks      | elapsed:    6.6s\n",
      "[Parallel(n_jobs=16)]: Done 3032 tasks      | elapsed:    8.7s\n",
      "[Parallel(n_jobs=16)]: Done 3559 out of 3559 | elapsed:    9.9s finished\n"
     ]
    },
    {
     "name": "stdout",
     "output_type": "stream",
     "text": [
      "20190114\r"
     ]
    },
    {
     "name": "stderr",
     "output_type": "stream",
     "text": [
      "[Parallel(n_jobs=16)]: Using backend LokyBackend with 16 concurrent workers.\n",
      "[Parallel(n_jobs=16)]: Done  40 tasks      | elapsed:    1.1s\n",
      "[Parallel(n_jobs=16)]: Done 216 tasks      | elapsed:    1.8s\n",
      "[Parallel(n_jobs=16)]: Done 720 tasks      | elapsed:    3.0s\n",
      "[Parallel(n_jobs=16)]: Done 1368 tasks      | elapsed:    4.6s\n",
      "[Parallel(n_jobs=16)]: Done 2160 tasks      | elapsed:    7.2s\n",
      "[Parallel(n_jobs=16)]: Done 3096 tasks      | elapsed:    9.5s\n",
      "[Parallel(n_jobs=16)]: Done 3525 out of 3556 | elapsed:   10.5s remaining:    0.1s\n",
      "[Parallel(n_jobs=16)]: Done 3556 out of 3556 | elapsed:   10.5s finished\n"
     ]
    },
    {
     "name": "stdout",
     "output_type": "stream",
     "text": [
      "20190115\r"
     ]
    },
    {
     "name": "stderr",
     "output_type": "stream",
     "text": [
      "[Parallel(n_jobs=16)]: Using backend LokyBackend with 16 concurrent workers.\n",
      "[Parallel(n_jobs=16)]: Done  40 tasks      | elapsed:    1.1s\n",
      "[Parallel(n_jobs=16)]: Done 216 tasks      | elapsed:    1.7s\n",
      "[Parallel(n_jobs=16)]: Done 1168 tasks      | elapsed:    4.1s\n",
      "[Parallel(n_jobs=16)]: Done 2464 tasks      | elapsed:    7.3s\n",
      "[Parallel(n_jobs=16)]: Done 3556 out of 3556 | elapsed:   10.6s finished\n"
     ]
    },
    {
     "name": "stdout",
     "output_type": "stream",
     "text": [
      "20190116\r"
     ]
    },
    {
     "name": "stderr",
     "output_type": "stream",
     "text": [
      "[Parallel(n_jobs=16)]: Using backend LokyBackend with 16 concurrent workers.\n",
      "[Parallel(n_jobs=16)]: Done  40 tasks      | elapsed:    1.6s\n",
      "[Parallel(n_jobs=16)]: Done 130 tasks      | elapsed:    2.2s\n",
      "[Parallel(n_jobs=16)]: Done 256 tasks      | elapsed:    3.1s\n",
      "[Parallel(n_jobs=16)]: Done 468 tasks      | elapsed:    4.4s\n",
      "[Parallel(n_jobs=16)]: Done 864 tasks      | elapsed:    6.1s\n",
      "[Parallel(n_jobs=16)]: Done 1336 tasks      | elapsed:    7.9s\n",
      "[Parallel(n_jobs=16)]: Done 3376 tasks      | elapsed:   13.9s\n",
      "[Parallel(n_jobs=16)]: Done 3558 out of 3558 | elapsed:   14.4s finished\n"
     ]
    },
    {
     "name": "stdout",
     "output_type": "stream",
     "text": [
      "20190117\r"
     ]
    },
    {
     "name": "stderr",
     "output_type": "stream",
     "text": [
      "[Parallel(n_jobs=16)]: Using backend LokyBackend with 16 concurrent workers.\n",
      "[Parallel(n_jobs=16)]: Done  40 tasks      | elapsed:    1.6s\n",
      "[Parallel(n_jobs=16)]: Done 130 tasks      | elapsed:    2.2s\n",
      "[Parallel(n_jobs=16)]: Done 256 tasks      | elapsed:    3.2s\n",
      "[Parallel(n_jobs=16)]: Done 418 tasks      | elapsed:    4.4s\n",
      "[Parallel(n_jobs=16)]: Done 616 tasks      | elapsed:    5.9s\n",
      "[Parallel(n_jobs=16)]: Done 1128 tasks      | elapsed:    7.7s\n",
      "[Parallel(n_jobs=16)]: Done 2208 tasks      | elapsed:   11.0s\n",
      "[Parallel(n_jobs=16)]: Done 3432 tasks      | elapsed:   15.8s\n",
      "[Parallel(n_jobs=16)]: Done 3530 out of 3561 | elapsed:   16.0s remaining:    0.1s\n",
      "[Parallel(n_jobs=16)]: Done 3561 out of 3561 | elapsed:   16.1s finished\n"
     ]
    },
    {
     "name": "stdout",
     "output_type": "stream",
     "text": [
      "20190118\r"
     ]
    },
    {
     "name": "stderr",
     "output_type": "stream",
     "text": [
      "[Parallel(n_jobs=16)]: Using backend LokyBackend with 16 concurrent workers.\n",
      "[Parallel(n_jobs=16)]: Done  40 tasks      | elapsed:    1.6s\n",
      "[Parallel(n_jobs=16)]: Done 164 tasks      | elapsed:    2.3s\n",
      "[Parallel(n_jobs=16)]: Done 416 tasks      | elapsed:    3.3s\n",
      "[Parallel(n_jobs=16)]: Done 1200 tasks      | elapsed:    5.6s\n",
      "[Parallel(n_jobs=16)]: Done 2784 tasks      | elapsed:   10.6s\n",
      "[Parallel(n_jobs=16)]: Done 3559 out of 3559 | elapsed:   13.0s finished\n"
     ]
    },
    {
     "name": "stdout",
     "output_type": "stream",
     "text": [
      "20190121\r"
     ]
    },
    {
     "name": "stderr",
     "output_type": "stream",
     "text": [
      "[Parallel(n_jobs=16)]: Using backend LokyBackend with 16 concurrent workers.\n",
      "[Parallel(n_jobs=16)]: Done  40 tasks      | elapsed:    1.6s\n",
      "[Parallel(n_jobs=16)]: Done 180 tasks      | elapsed:    2.3s\n",
      "[Parallel(n_jobs=16)]: Done 496 tasks      | elapsed:    3.2s\n",
      "[Parallel(n_jobs=16)]: Done 1144 tasks      | elapsed:    5.0s\n",
      "[Parallel(n_jobs=16)]: Done 1936 tasks      | elapsed:    7.4s\n",
      "[Parallel(n_jobs=16)]: Done 2872 tasks      | elapsed:   10.1s\n",
      "[Parallel(n_jobs=16)]: Done 3559 out of 3559 | elapsed:   12.0s finished\n"
     ]
    },
    {
     "name": "stdout",
     "output_type": "stream",
     "text": [
      "20190122\r"
     ]
    },
    {
     "name": "stderr",
     "output_type": "stream",
     "text": [
      "[Parallel(n_jobs=16)]: Using backend LokyBackend with 16 concurrent workers.\n",
      "[Parallel(n_jobs=16)]: Done  40 tasks      | elapsed:    1.6s\n",
      "[Parallel(n_jobs=16)]: Done 130 tasks      | elapsed:    2.3s\n",
      "[Parallel(n_jobs=16)]: Done 336 tasks      | elapsed:    3.3s\n",
      "[Parallel(n_jobs=16)]: Done 660 tasks      | elapsed:    4.8s\n",
      "[Parallel(n_jobs=16)]: Done 1056 tasks      | elapsed:    6.4s\n",
      "[Parallel(n_jobs=16)]: Done 2464 tasks      | elapsed:   10.6s\n",
      "[Parallel(n_jobs=16)]: Done 3560 out of 3560 | elapsed:   15.0s finished\n"
     ]
    },
    {
     "name": "stdout",
     "output_type": "stream",
     "text": [
      "20190123\r"
     ]
    },
    {
     "name": "stderr",
     "output_type": "stream",
     "text": [
      "[Parallel(n_jobs=16)]: Using backend LokyBackend with 16 concurrent workers.\n",
      "[Parallel(n_jobs=16)]: Done  40 tasks      | elapsed:    1.5s\n",
      "[Parallel(n_jobs=16)]: Done 130 tasks      | elapsed:    2.2s\n",
      "[Parallel(n_jobs=16)]: Done 320 tasks      | elapsed:    3.2s\n",
      "[Parallel(n_jobs=16)]: Done 644 tasks      | elapsed:    4.5s\n",
      "[Parallel(n_jobs=16)]: Done 1920 tasks      | elapsed:    8.2s\n",
      "[Parallel(n_jobs=16)]: Done 3528 out of 3559 | elapsed:   13.1s remaining:    0.1s\n",
      "[Parallel(n_jobs=16)]: Done 3559 out of 3559 | elapsed:   13.1s finished\n"
     ]
    },
    {
     "name": "stdout",
     "output_type": "stream",
     "text": [
      "20190124\r"
     ]
    },
    {
     "name": "stderr",
     "output_type": "stream",
     "text": [
      "[Parallel(n_jobs=16)]: Using backend LokyBackend with 16 concurrent workers.\n",
      "[Parallel(n_jobs=16)]: Done  40 tasks      | elapsed:    1.6s\n",
      "[Parallel(n_jobs=16)]: Done 130 tasks      | elapsed:    2.3s\n",
      "[Parallel(n_jobs=16)]: Done 256 tasks      | elapsed:    3.2s\n",
      "[Parallel(n_jobs=16)]: Done 418 tasks      | elapsed:    4.5s\n",
      "[Parallel(n_jobs=16)]: Done 624 tasks      | elapsed:    5.8s\n",
      "[Parallel(n_jobs=16)]: Done 1512 tasks      | elapsed:    8.3s\n",
      "[Parallel(n_jobs=16)]: Done 2592 tasks      | elapsed:   12.2s\n",
      "[Parallel(n_jobs=16)]: Done 3531 out of 3562 | elapsed:   15.5s remaining:    0.1s\n",
      "[Parallel(n_jobs=16)]: Done 3562 out of 3562 | elapsed:   15.6s finished\n"
     ]
    },
    {
     "name": "stdout",
     "output_type": "stream",
     "text": [
      "20190125\r"
     ]
    },
    {
     "name": "stderr",
     "output_type": "stream",
     "text": [
      "[Parallel(n_jobs=16)]: Using backend LokyBackend with 16 concurrent workers.\n",
      "[Parallel(n_jobs=16)]: Done  40 tasks      | elapsed:    1.6s\n",
      "[Parallel(n_jobs=16)]: Done 130 tasks      | elapsed:    2.2s\n",
      "[Parallel(n_jobs=16)]: Done 272 tasks      | elapsed:    3.1s\n",
      "[Parallel(n_jobs=16)]: Done 856 tasks      | elapsed:    4.9s\n",
      "[Parallel(n_jobs=16)]: Done 1648 tasks      | elapsed:    7.5s\n",
      "[Parallel(n_jobs=16)]: Done 2584 tasks      | elapsed:   10.7s\n",
      "[Parallel(n_jobs=16)]: Done 3531 out of 3562 | elapsed:   13.6s remaining:    0.1s\n",
      "[Parallel(n_jobs=16)]: Done 3562 out of 3562 | elapsed:   13.7s finished\n"
     ]
    },
    {
     "name": "stdout",
     "output_type": "stream",
     "text": [
      "20190128\r"
     ]
    },
    {
     "name": "stderr",
     "output_type": "stream",
     "text": [
      "[Parallel(n_jobs=16)]: Using backend LokyBackend with 16 concurrent workers.\n",
      "[Parallel(n_jobs=16)]: Done  40 tasks      | elapsed:    1.6s\n",
      "[Parallel(n_jobs=16)]: Done 164 tasks      | elapsed:    2.2s\n",
      "[Parallel(n_jobs=16)]: Done 768 tasks      | elapsed:    4.0s\n",
      "[Parallel(n_jobs=16)]: Done 2064 tasks      | elapsed:    8.1s\n",
      "[Parallel(n_jobs=16)]: Done 3445 tasks      | elapsed:   12.2s\n",
      "[Parallel(n_jobs=16)]: Done 3564 out of 3564 | elapsed:   12.6s finished\n"
     ]
    },
    {
     "name": "stdout",
     "output_type": "stream",
     "text": [
      "20190129\r"
     ]
    },
    {
     "name": "stderr",
     "output_type": "stream",
     "text": [
      "[Parallel(n_jobs=16)]: Using backend LokyBackend with 16 concurrent workers.\n",
      "[Parallel(n_jobs=16)]: Done  40 tasks      | elapsed:    1.6s\n",
      "[Parallel(n_jobs=16)]: Done 130 tasks      | elapsed:    3.2s\n",
      "[Parallel(n_jobs=16)]: Done 256 tasks      | elapsed:    4.2s\n",
      "[Parallel(n_jobs=16)]: Done 418 tasks      | elapsed:    5.4s\n",
      "[Parallel(n_jobs=16)]: Done 1008 tasks      | elapsed:    7.3s\n",
      "[Parallel(n_jobs=16)]: Done 1944 tasks      | elapsed:   10.6s\n",
      "[Parallel(n_jobs=16)]: Done 3024 tasks      | elapsed:   14.7s\n",
      "[Parallel(n_jobs=16)]: Done 3564 out of 3564 | elapsed:   16.7s finished\n"
     ]
    },
    {
     "name": "stdout",
     "output_type": "stream",
     "text": [
      "20190130\r"
     ]
    },
    {
     "name": "stderr",
     "output_type": "stream",
     "text": [
      "[Parallel(n_jobs=16)]: Using backend LokyBackend with 16 concurrent workers.\n",
      "[Parallel(n_jobs=16)]: Done  40 tasks      | elapsed:    1.6s\n",
      "[Parallel(n_jobs=16)]: Done 130 tasks      | elapsed:    2.2s\n",
      "[Parallel(n_jobs=16)]: Done 608 tasks      | elapsed:    3.7s\n",
      "[Parallel(n_jobs=16)]: Done 1904 tasks      | elapsed:    7.6s\n",
      "[Parallel(n_jobs=16)]: Done 3568 out of 3568 | elapsed:   12.6s finished\n"
     ]
    },
    {
     "name": "stdout",
     "output_type": "stream",
     "text": [
      "20190131\r"
     ]
    },
    {
     "name": "stderr",
     "output_type": "stream",
     "text": [
      "[Parallel(n_jobs=16)]: Using backend LokyBackend with 16 concurrent workers.\n",
      "[Parallel(n_jobs=16)]: Done  40 tasks      | elapsed:    1.7s\n",
      "[Parallel(n_jobs=16)]: Done 130 tasks      | elapsed:    2.4s\n",
      "[Parallel(n_jobs=16)]: Done 256 tasks      | elapsed:    3.3s\n",
      "[Parallel(n_jobs=16)]: Done 532 tasks      | elapsed:    4.8s\n",
      "[Parallel(n_jobs=16)]: Done 1136 tasks      | elapsed:    6.6s\n",
      "[Parallel(n_jobs=16)]: Done 2072 tasks      | elapsed:   10.0s\n",
      "[Parallel(n_jobs=16)]: Done 3152 tasks      | elapsed:   14.3s\n",
      "[Parallel(n_jobs=16)]: Done 3536 out of 3567 | elapsed:   15.8s remaining:    0.1s\n",
      "[Parallel(n_jobs=16)]: Done 3567 out of 3567 | elapsed:   15.8s finished\n"
     ]
    },
    {
     "name": "stdout",
     "output_type": "stream",
     "text": [
      "20190201\r"
     ]
    },
    {
     "name": "stderr",
     "output_type": "stream",
     "text": [
      "[Parallel(n_jobs=16)]: Using backend LokyBackend with 16 concurrent workers.\n",
      "[Parallel(n_jobs=16)]: Done  40 tasks      | elapsed:    1.7s\n",
      "[Parallel(n_jobs=16)]: Done 130 tasks      | elapsed:    2.2s\n",
      "[Parallel(n_jobs=16)]: Done 528 tasks      | elapsed:    4.2s\n",
      "[Parallel(n_jobs=16)]: Done 1176 tasks      | elapsed:    6.4s\n",
      "[Parallel(n_jobs=16)]: Done 1968 tasks      | elapsed:    9.1s\n",
      "[Parallel(n_jobs=16)]: Done 2904 tasks      | elapsed:   12.2s\n",
      "[Parallel(n_jobs=16)]: Done 3568 out of 3568 | elapsed:   14.7s finished\n"
     ]
    },
    {
     "name": "stdout",
     "output_type": "stream",
     "text": [
      "20190211\r"
     ]
    },
    {
     "name": "stderr",
     "output_type": "stream",
     "text": [
      "[Parallel(n_jobs=16)]: Using backend LokyBackend with 16 concurrent workers.\n",
      "[Parallel(n_jobs=16)]: Done  40 tasks      | elapsed:    1.6s\n",
      "[Parallel(n_jobs=16)]: Done 130 tasks      | elapsed:    2.3s\n",
      "[Parallel(n_jobs=16)]: Done 256 tasks      | elapsed:    3.3s\n",
      "[Parallel(n_jobs=16)]: Done 418 tasks      | elapsed:    4.5s\n",
      "[Parallel(n_jobs=16)]: Done 1248 tasks      | elapsed:    7.3s\n",
      "[Parallel(n_jobs=16)]: Done 3120 tasks      | elapsed:   14.0s\n",
      "[Parallel(n_jobs=16)]: Done 3570 out of 3570 | elapsed:   15.4s finished\n"
     ]
    },
    {
     "name": "stdout",
     "output_type": "stream",
     "text": [
      "20190212\r"
     ]
    },
    {
     "name": "stderr",
     "output_type": "stream",
     "text": [
      "[Parallel(n_jobs=16)]: Using backend LokyBackend with 16 concurrent workers.\n",
      "[Parallel(n_jobs=16)]: Done  40 tasks      | elapsed:    1.6s\n",
      "[Parallel(n_jobs=16)]: Done 130 tasks      | elapsed:    2.2s\n",
      "[Parallel(n_jobs=16)]: Done 272 tasks      | elapsed:    3.1s\n",
      "[Parallel(n_jobs=16)]: Done 1056 tasks      | elapsed:    5.8s\n",
      "[Parallel(n_jobs=16)]: Done 2640 tasks      | elapsed:   11.8s\n",
      "[Parallel(n_jobs=16)]: Done 3570 out of 3570 | elapsed:   15.3s finished\n"
     ]
    },
    {
     "name": "stdout",
     "output_type": "stream",
     "text": [
      "20190213\r"
     ]
    },
    {
     "name": "stderr",
     "output_type": "stream",
     "text": [
      "[Parallel(n_jobs=16)]: Using backend LokyBackend with 16 concurrent workers.\n",
      "[Parallel(n_jobs=16)]: Done  40 tasks      | elapsed:    1.3s\n",
      "[Parallel(n_jobs=16)]: Done 216 tasks      | elapsed:    1.9s\n",
      "[Parallel(n_jobs=16)]: Done 720 tasks      | elapsed:    4.4s\n",
      "[Parallel(n_jobs=16)]: Done 1368 tasks      | elapsed:    7.1s\n",
      "[Parallel(n_jobs=16)]: Done 2160 tasks      | elapsed:   10.2s\n",
      "[Parallel(n_jobs=16)]: Done 3096 tasks      | elapsed:   14.0s\n",
      "[Parallel(n_jobs=16)]: Done 3571 out of 3571 | elapsed:   15.8s finished\n"
     ]
    },
    {
     "name": "stdout",
     "output_type": "stream",
     "text": [
      "20190214\r"
     ]
    },
    {
     "name": "stderr",
     "output_type": "stream",
     "text": [
      "[Parallel(n_jobs=16)]: Using backend LokyBackend with 16 concurrent workers.\n",
      "[Parallel(n_jobs=16)]: Done  40 tasks      | elapsed:    1.2s\n",
      "[Parallel(n_jobs=16)]: Done 148 tasks      | elapsed:    1.9s\n",
      "[Parallel(n_jobs=16)]: Done 400 tasks      | elapsed:    3.0s\n",
      "[Parallel(n_jobs=16)]: Done 724 tasks      | elapsed:    4.4s\n",
      "[Parallel(n_jobs=16)]: Done 1120 tasks      | elapsed:    6.0s\n",
      "[Parallel(n_jobs=16)]: Done 1588 tasks      | elapsed:    8.0s\n",
      "[Parallel(n_jobs=16)]: Done 2128 tasks      | elapsed:   10.3s\n",
      "[Parallel(n_jobs=16)]: Done 2740 tasks      | elapsed:   12.9s\n",
      "[Parallel(n_jobs=16)]: Done 3424 tasks      | elapsed:   15.8s\n",
      "[Parallel(n_jobs=16)]: Done 3572 out of 3572 | elapsed:   16.3s finished\n"
     ]
    },
    {
     "name": "stdout",
     "output_type": "stream",
     "text": [
      "20190215\r"
     ]
    },
    {
     "name": "stderr",
     "output_type": "stream",
     "text": [
      "[Parallel(n_jobs=16)]: Using backend LokyBackend with 16 concurrent workers.\n",
      "[Parallel(n_jobs=16)]: Done  40 tasks      | elapsed:    1.3s\n",
      "[Parallel(n_jobs=16)]: Done 130 tasks      | elapsed:    2.0s\n",
      "[Parallel(n_jobs=16)]: Done 256 tasks      | elapsed:    2.8s\n",
      "[Parallel(n_jobs=16)]: Done 580 tasks      | elapsed:    4.2s\n",
      "[Parallel(n_jobs=16)]: Done 976 tasks      | elapsed:    6.0s\n",
      "[Parallel(n_jobs=16)]: Done 1444 tasks      | elapsed:    8.1s\n",
      "[Parallel(n_jobs=16)]: Done 1984 tasks      | elapsed:   10.6s\n",
      "[Parallel(n_jobs=16)]: Done 2596 tasks      | elapsed:   13.4s\n",
      "[Parallel(n_jobs=16)]: Done 3280 tasks      | elapsed:   16.6s\n",
      "[Parallel(n_jobs=16)]: Done 3541 out of 3572 | elapsed:   17.7s remaining:    0.2s\n",
      "[Parallel(n_jobs=16)]: Done 3572 out of 3572 | elapsed:   17.8s finished\n"
     ]
    },
    {
     "name": "stdout",
     "output_type": "stream",
     "text": [
      "20190218\r"
     ]
    },
    {
     "name": "stderr",
     "output_type": "stream",
     "text": [
      "[Parallel(n_jobs=16)]: Using backend LokyBackend with 16 concurrent workers.\n",
      "[Parallel(n_jobs=16)]: Done  40 tasks      | elapsed:    1.6s\n",
      "[Parallel(n_jobs=16)]: Done 132 tasks      | elapsed:    2.2s\n",
      "[Parallel(n_jobs=16)]: Done 384 tasks      | elapsed:    3.3s\n",
      "[Parallel(n_jobs=16)]: Done 708 tasks      | elapsed:    4.7s\n",
      "[Parallel(n_jobs=16)]: Done 1104 tasks      | elapsed:    6.6s\n",
      "[Parallel(n_jobs=16)]: Done 1572 tasks      | elapsed:    9.6s\n",
      "[Parallel(n_jobs=16)]: Done 2112 tasks      | elapsed:   12.1s\n",
      "[Parallel(n_jobs=16)]: Done 2724 tasks      | elapsed:   15.0s\n",
      "[Parallel(n_jobs=16)]: Done 3540 out of 3571 | elapsed:   17.8s remaining:    0.2s\n",
      "[Parallel(n_jobs=16)]: Done 3571 out of 3571 | elapsed:   17.8s finished\n"
     ]
    },
    {
     "name": "stdout",
     "output_type": "stream",
     "text": [
      "20190219\r"
     ]
    },
    {
     "name": "stderr",
     "output_type": "stream",
     "text": [
      "[Parallel(n_jobs=16)]: Using backend LokyBackend with 16 concurrent workers.\n",
      "[Parallel(n_jobs=16)]: Done  40 tasks      | elapsed:    1.4s\n",
      "[Parallel(n_jobs=16)]: Done 130 tasks      | elapsed:    2.1s\n",
      "[Parallel(n_jobs=16)]: Done 272 tasks      | elapsed:    2.9s\n",
      "[Parallel(n_jobs=16)]: Done 596 tasks      | elapsed:    4.3s\n",
      "[Parallel(n_jobs=16)]: Done 992 tasks      | elapsed:    6.0s\n",
      "[Parallel(n_jobs=16)]: Done 1460 tasks      | elapsed:    8.1s\n",
      "[Parallel(n_jobs=16)]: Done 2000 tasks      | elapsed:   10.6s\n",
      "[Parallel(n_jobs=16)]: Done 2612 tasks      | elapsed:   13.3s\n",
      "[Parallel(n_jobs=16)]: Done 3296 tasks      | elapsed:   16.4s\n",
      "[Parallel(n_jobs=16)]: Done 3540 out of 3571 | elapsed:   17.1s remaining:    0.1s\n",
      "[Parallel(n_jobs=16)]: Done 3571 out of 3571 | elapsed:   17.1s finished\n"
     ]
    },
    {
     "name": "stdout",
     "output_type": "stream",
     "text": [
      "20190220\r"
     ]
    },
    {
     "name": "stderr",
     "output_type": "stream",
     "text": [
      "[Parallel(n_jobs=16)]: Using backend LokyBackend with 16 concurrent workers.\n",
      "[Parallel(n_jobs=16)]: Done  40 tasks      | elapsed:    1.6s\n",
      "[Parallel(n_jobs=16)]: Done 130 tasks      | elapsed:    2.2s\n",
      "[Parallel(n_jobs=16)]: Done 272 tasks      | elapsed:    3.1s\n",
      "[Parallel(n_jobs=16)]: Done 596 tasks      | elapsed:    4.5s\n",
      "[Parallel(n_jobs=16)]: Done 992 tasks      | elapsed:    6.3s\n",
      "[Parallel(n_jobs=16)]: Done 1460 tasks      | elapsed:    8.4s\n",
      "[Parallel(n_jobs=16)]: Done 2000 tasks      | elapsed:   10.9s\n",
      "[Parallel(n_jobs=16)]: Done 2612 tasks      | elapsed:   13.6s\n",
      "[Parallel(n_jobs=16)]: Done 3535 out of 3566 | elapsed:   16.6s remaining:    0.1s\n",
      "[Parallel(n_jobs=16)]: Done 3566 out of 3566 | elapsed:   16.6s finished\n"
     ]
    },
    {
     "name": "stdout",
     "output_type": "stream",
     "text": [
      "20190221\r"
     ]
    },
    {
     "name": "stderr",
     "output_type": "stream",
     "text": [
      "[Parallel(n_jobs=16)]: Using backend LokyBackend with 16 concurrent workers.\n",
      "[Parallel(n_jobs=16)]: Done  40 tasks      | elapsed:    1.7s\n",
      "[Parallel(n_jobs=16)]: Done 130 tasks      | elapsed:    2.4s\n",
      "[Parallel(n_jobs=16)]: Done 256 tasks      | elapsed:    3.3s\n",
      "[Parallel(n_jobs=16)]: Done 418 tasks      | elapsed:    4.5s\n",
      "[Parallel(n_jobs=16)]: Done 616 tasks      | elapsed:    6.0s\n",
      "[Parallel(n_jobs=16)]: Done 850 tasks      | elapsed:    7.7s\n",
      "[Parallel(n_jobs=16)]: Done 1200 tasks      | elapsed:    9.7s\n",
      "[Parallel(n_jobs=16)]: Done 2232 tasks      | elapsed:   14.1s\n",
      "[Parallel(n_jobs=16)]: Done 3571 out of 3571 | elapsed:   18.7s finished\n"
     ]
    },
    {
     "name": "stdout",
     "output_type": "stream",
     "text": [
      "20190222\r"
     ]
    },
    {
     "name": "stderr",
     "output_type": "stream",
     "text": [
      "[Parallel(n_jobs=16)]: Using backend LokyBackend with 16 concurrent workers.\n",
      "[Parallel(n_jobs=16)]: Done  40 tasks      | elapsed:    1.6s\n",
      "[Parallel(n_jobs=16)]: Done 130 tasks      | elapsed:    2.2s\n",
      "[Parallel(n_jobs=16)]: Done 256 tasks      | elapsed:    3.2s\n",
      "[Parallel(n_jobs=16)]: Done 418 tasks      | elapsed:    4.4s\n",
      "[Parallel(n_jobs=16)]: Done 752 tasks      | elapsed:    6.0s\n",
      "[Parallel(n_jobs=16)]: Done 1480 tasks      | elapsed:    8.4s\n",
      "[Parallel(n_jobs=16)]: Done 2560 tasks      | elapsed:   12.4s\n",
      "[Parallel(n_jobs=16)]: Done 3542 out of 3573 | elapsed:   16.0s remaining:    0.1s\n",
      "[Parallel(n_jobs=16)]: Done 3573 out of 3573 | elapsed:   16.1s finished\n"
     ]
    },
    {
     "name": "stdout",
     "output_type": "stream",
     "text": [
      "20190225\r"
     ]
    },
    {
     "name": "stderr",
     "output_type": "stream",
     "text": [
      "[Parallel(n_jobs=16)]: Using backend LokyBackend with 16 concurrent workers.\n",
      "[Parallel(n_jobs=16)]: Done  40 tasks      | elapsed:    1.7s\n",
      "[Parallel(n_jobs=16)]: Done 130 tasks      | elapsed:    2.3s\n",
      "[Parallel(n_jobs=16)]: Done 256 tasks      | elapsed:    3.3s\n",
      "[Parallel(n_jobs=16)]: Done 696 tasks      | elapsed:    4.9s\n",
      "[Parallel(n_jobs=16)]: Done 1488 tasks      | elapsed:    7.5s\n",
      "[Parallel(n_jobs=16)]: Done 2424 tasks      | elapsed:   10.5s\n",
      "[Parallel(n_jobs=16)]: Done 3569 out of 3569 | elapsed:   14.0s finished\n"
     ]
    },
    {
     "name": "stdout",
     "output_type": "stream",
     "text": [
      "20190226\r"
     ]
    },
    {
     "name": "stderr",
     "output_type": "stream",
     "text": [
      "[Parallel(n_jobs=16)]: Using backend LokyBackend with 16 concurrent workers.\n",
      "[Parallel(n_jobs=16)]: Done  40 tasks      | elapsed:    1.7s\n",
      "[Parallel(n_jobs=16)]: Done 130 tasks      | elapsed:    2.3s\n",
      "[Parallel(n_jobs=16)]: Done 256 tasks      | elapsed:    3.3s\n",
      "[Parallel(n_jobs=16)]: Done 418 tasks      | elapsed:    4.6s\n",
      "[Parallel(n_jobs=16)]: Done 616 tasks      | elapsed:    6.1s\n",
      "[Parallel(n_jobs=16)]: Done 1320 tasks      | elapsed:    8.3s\n",
      "[Parallel(n_jobs=16)]: Done 2400 tasks      | elapsed:   12.0s\n",
      "[Parallel(n_jobs=16)]: Done 3569 out of 3569 | elapsed:   16.9s finished\n"
     ]
    },
    {
     "name": "stdout",
     "output_type": "stream",
     "text": [
      "20190227\r"
     ]
    },
    {
     "name": "stderr",
     "output_type": "stream",
     "text": [
      "[Parallel(n_jobs=16)]: Using backend LokyBackend with 16 concurrent workers.\n",
      "[Parallel(n_jobs=16)]: Done  40 tasks      | elapsed:    1.7s\n",
      "[Parallel(n_jobs=16)]: Done 130 tasks      | elapsed:    2.4s\n",
      "[Parallel(n_jobs=16)]: Done 256 tasks      | elapsed:    3.4s\n",
      "[Parallel(n_jobs=16)]: Done 418 tasks      | elapsed:    4.7s\n",
      "[Parallel(n_jobs=16)]: Done 960 tasks      | elapsed:    6.4s\n",
      "[Parallel(n_jobs=16)]: Done 1896 tasks      | elapsed:    9.8s\n",
      "[Parallel(n_jobs=16)]: Done 2976 tasks      | elapsed:   13.9s\n",
      "[Parallel(n_jobs=16)]: Done 3537 out of 3568 | elapsed:   16.0s remaining:    0.1s\n",
      "[Parallel(n_jobs=16)]: Done 3568 out of 3568 | elapsed:   16.1s finished\n"
     ]
    },
    {
     "name": "stdout",
     "output_type": "stream",
     "text": [
      "20190228\r"
     ]
    },
    {
     "name": "stderr",
     "output_type": "stream",
     "text": [
      "[Parallel(n_jobs=16)]: Using backend LokyBackend with 16 concurrent workers.\n",
      "[Parallel(n_jobs=16)]: Done  40 tasks      | elapsed:    1.6s\n",
      "[Parallel(n_jobs=16)]: Done 130 tasks      | elapsed:    2.3s\n",
      "[Parallel(n_jobs=16)]: Done 256 tasks      | elapsed:    3.2s\n",
      "[Parallel(n_jobs=16)]: Done 560 tasks      | elapsed:    4.6s\n",
      "[Parallel(n_jobs=16)]: Done 2144 tasks      | elapsed:   10.0s\n",
      "[Parallel(n_jobs=16)]: Done 3569 out of 3569 | elapsed:   14.7s finished\n"
     ]
    },
    {
     "name": "stdout",
     "output_type": "stream",
     "text": [
      "20190301\r"
     ]
    },
    {
     "name": "stderr",
     "output_type": "stream",
     "text": [
      "[Parallel(n_jobs=16)]: Using backend LokyBackend with 16 concurrent workers.\n",
      "[Parallel(n_jobs=16)]: Done  40 tasks      | elapsed:    1.6s\n",
      "[Parallel(n_jobs=16)]: Done 130 tasks      | elapsed:    2.3s\n",
      "[Parallel(n_jobs=16)]: Done 256 tasks      | elapsed:    3.2s\n",
      "[Parallel(n_jobs=16)]: Done 418 tasks      | elapsed:    4.5s\n",
      "[Parallel(n_jobs=16)]: Done 616 tasks      | elapsed:    6.0s\n",
      "[Parallel(n_jobs=16)]: Done 1288 tasks      | elapsed:    8.3s\n",
      "[Parallel(n_jobs=16)]: Done 2368 tasks      | elapsed:   12.2s\n",
      "[Parallel(n_jobs=16)]: Done 3535 tasks      | elapsed:   16.8s\n",
      "[Parallel(n_jobs=16)]: Done 3542 out of 3573 | elapsed:   16.8s remaining:    0.1s\n",
      "[Parallel(n_jobs=16)]: Done 3573 out of 3573 | elapsed:   16.9s finished\n"
     ]
    },
    {
     "name": "stdout",
     "output_type": "stream",
     "text": [
      "20190304\r"
     ]
    },
    {
     "name": "stderr",
     "output_type": "stream",
     "text": [
      "[Parallel(n_jobs=16)]: Using backend LokyBackend with 16 concurrent workers.\n",
      "[Parallel(n_jobs=16)]: Done  40 tasks      | elapsed:    1.6s\n",
      "[Parallel(n_jobs=16)]: Done 130 tasks      | elapsed:    2.3s\n",
      "[Parallel(n_jobs=16)]: Done 256 tasks      | elapsed:    3.3s\n",
      "[Parallel(n_jobs=16)]: Done 468 tasks      | elapsed:    4.4s\n",
      "[Parallel(n_jobs=16)]: Done 1168 tasks      | elapsed:    6.6s\n",
      "[Parallel(n_jobs=16)]: Done 2104 tasks      | elapsed:   10.0s\n",
      "[Parallel(n_jobs=16)]: Done 3184 tasks      | elapsed:   14.4s\n",
      "[Parallel(n_jobs=16)]: Done 3573 out of 3573 | elapsed:   15.9s finished\n"
     ]
    },
    {
     "name": "stdout",
     "output_type": "stream",
     "text": [
      "20190305\r"
     ]
    },
    {
     "name": "stderr",
     "output_type": "stream",
     "text": [
      "[Parallel(n_jobs=16)]: Using backend LokyBackend with 16 concurrent workers.\n",
      "[Parallel(n_jobs=16)]: Done  40 tasks      | elapsed:    1.4s\n",
      "[Parallel(n_jobs=16)]: Done 180 tasks      | elapsed:    2.2s\n",
      "[Parallel(n_jobs=16)]: Done 432 tasks      | elapsed:    3.3s\n",
      "[Parallel(n_jobs=16)]: Done 756 tasks      | elapsed:    4.7s\n",
      "[Parallel(n_jobs=16)]: Done 1152 tasks      | elapsed:    6.4s\n",
      "[Parallel(n_jobs=16)]: Done 1880 tasks      | elapsed:    8.8s\n",
      "[Parallel(n_jobs=16)]: Done 2960 tasks      | elapsed:   13.2s\n",
      "[Parallel(n_jobs=16)]: Done 3540 out of 3571 | elapsed:   15.3s remaining:    0.1s\n",
      "[Parallel(n_jobs=16)]: Done 3571 out of 3571 | elapsed:   15.4s finished\n"
     ]
    },
    {
     "name": "stdout",
     "output_type": "stream",
     "text": [
      "20190306\r"
     ]
    },
    {
     "name": "stderr",
     "output_type": "stream",
     "text": [
      "[Parallel(n_jobs=16)]: Using backend LokyBackend with 16 concurrent workers.\n",
      "[Parallel(n_jobs=16)]: Done  40 tasks      | elapsed:    1.7s\n",
      "[Parallel(n_jobs=16)]: Done 130 tasks      | elapsed:    2.4s\n",
      "[Parallel(n_jobs=16)]: Done 256 tasks      | elapsed:    3.3s\n",
      "[Parallel(n_jobs=16)]: Done 418 tasks      | elapsed:    4.5s\n",
      "[Parallel(n_jobs=16)]: Done 616 tasks      | elapsed:    6.0s\n",
      "[Parallel(n_jobs=16)]: Done 1368 tasks      | elapsed:    8.6s\n",
      "[Parallel(n_jobs=16)]: Done 2448 tasks      | elapsed:   12.6s\n",
      "[Parallel(n_jobs=16)]: Done 3536 out of 3567 | elapsed:   17.0s remaining:    0.1s\n",
      "[Parallel(n_jobs=16)]: Done 3567 out of 3567 | elapsed:   17.1s finished\n"
     ]
    },
    {
     "name": "stdout",
     "output_type": "stream",
     "text": [
      "20190307\r"
     ]
    },
    {
     "name": "stderr",
     "output_type": "stream",
     "text": [
      "[Parallel(n_jobs=16)]: Using backend LokyBackend with 16 concurrent workers.\n",
      "[Parallel(n_jobs=16)]: Done  40 tasks      | elapsed:    1.7s\n",
      "[Parallel(n_jobs=16)]: Done 130 tasks      | elapsed:    2.4s\n",
      "[Parallel(n_jobs=16)]: Done 256 tasks      | elapsed:    3.3s\n",
      "[Parallel(n_jobs=16)]: Done 648 tasks      | elapsed:    4.7s\n",
      "[Parallel(n_jobs=16)]: Done 1440 tasks      | elapsed:    7.4s\n",
      "[Parallel(n_jobs=16)]: Done 2376 tasks      | elapsed:   10.5s\n",
      "[Parallel(n_jobs=16)]: Done 3456 tasks      | elapsed:   14.0s\n",
      "[Parallel(n_jobs=16)]: Done 3540 out of 3571 | elapsed:   14.2s remaining:    0.1s\n",
      "[Parallel(n_jobs=16)]: Done 3571 out of 3571 | elapsed:   14.2s finished\n"
     ]
    },
    {
     "name": "stdout",
     "output_type": "stream",
     "text": [
      "20190308\r"
     ]
    },
    {
     "name": "stderr",
     "output_type": "stream",
     "text": [
      "[Parallel(n_jobs=16)]: Using backend LokyBackend with 16 concurrent workers.\n",
      "[Parallel(n_jobs=16)]: Done  40 tasks      | elapsed:    1.6s\n",
      "[Parallel(n_jobs=16)]: Done 130 tasks      | elapsed:    2.2s\n",
      "[Parallel(n_jobs=16)]: Done 256 tasks      | elapsed:    3.2s\n",
      "[Parallel(n_jobs=16)]: Done 418 tasks      | elapsed:    4.4s\n",
      "[Parallel(n_jobs=16)]: Done 688 tasks      | elapsed:    6.0s\n",
      "[Parallel(n_jobs=16)]: Done 1192 tasks      | elapsed:    8.0s\n",
      "[Parallel(n_jobs=16)]: Done 2272 tasks      | elapsed:   11.6s\n",
      "[Parallel(n_jobs=16)]: Done 3496 tasks      | elapsed:   16.6s\n",
      "[Parallel(n_jobs=16)]: Done 3543 out of 3574 | elapsed:   16.7s remaining:    0.1s\n",
      "[Parallel(n_jobs=16)]: Done 3574 out of 3574 | elapsed:   16.8s finished\n"
     ]
    },
    {
     "name": "stdout",
     "output_type": "stream",
     "text": [
      "20190311\r"
     ]
    },
    {
     "name": "stderr",
     "output_type": "stream",
     "text": [
      "[Parallel(n_jobs=16)]: Using backend LokyBackend with 16 concurrent workers.\n",
      "[Parallel(n_jobs=16)]: Done  40 tasks      | elapsed:    1.5s\n",
      "[Parallel(n_jobs=16)]: Done 130 tasks      | elapsed:    2.2s\n",
      "[Parallel(n_jobs=16)]: Done 256 tasks      | elapsed:    3.2s\n",
      "[Parallel(n_jobs=16)]: Done 418 tasks      | elapsed:    4.4s\n",
      "[Parallel(n_jobs=16)]: Done 616 tasks      | elapsed:    5.9s\n",
      "[Parallel(n_jobs=16)]: Done 1028 tasks      | elapsed:    7.5s\n",
      "[Parallel(n_jobs=16)]: Done 1568 tasks      | elapsed:    9.8s\n",
      "[Parallel(n_jobs=16)]: Done 2180 tasks      | elapsed:   12.2s\n",
      "[Parallel(n_jobs=16)]: Done 2864 tasks      | elapsed:   14.9s\n",
      "[Parallel(n_jobs=16)]: Done 3544 out of 3575 | elapsed:   17.9s remaining:    0.2s\n",
      "[Parallel(n_jobs=16)]: Done 3575 out of 3575 | elapsed:   17.9s finished\n"
     ]
    },
    {
     "name": "stdout",
     "output_type": "stream",
     "text": [
      "20190312\r"
     ]
    },
    {
     "name": "stderr",
     "output_type": "stream",
     "text": [
      "[Parallel(n_jobs=16)]: Using backend LokyBackend with 16 concurrent workers.\n",
      "[Parallel(n_jobs=16)]: Done  40 tasks      | elapsed:    1.6s\n",
      "[Parallel(n_jobs=16)]: Done 130 tasks      | elapsed:    2.3s\n",
      "[Parallel(n_jobs=16)]: Done 256 tasks      | elapsed:    3.3s\n",
      "[Parallel(n_jobs=16)]: Done 896 tasks      | elapsed:    5.5s\n",
      "[Parallel(n_jobs=16)]: Done 2480 tasks      | elapsed:   11.0s\n",
      "[Parallel(n_jobs=16)]: Done 3572 out of 3572 | elapsed:   14.7s finished\n"
     ]
    },
    {
     "name": "stdout",
     "output_type": "stream",
     "text": [
      "20190313\r"
     ]
    },
    {
     "name": "stderr",
     "output_type": "stream",
     "text": [
      "[Parallel(n_jobs=16)]: Using backend LokyBackend with 16 concurrent workers.\n",
      "[Parallel(n_jobs=16)]: Done  40 tasks      | elapsed:    1.6s\n",
      "[Parallel(n_jobs=16)]: Done 130 tasks      | elapsed:    2.3s\n",
      "[Parallel(n_jobs=16)]: Done 256 tasks      | elapsed:    3.2s\n",
      "[Parallel(n_jobs=16)]: Done 418 tasks      | elapsed:    4.5s\n",
      "[Parallel(n_jobs=16)]: Done 616 tasks      | elapsed:    6.0s\n",
      "[Parallel(n_jobs=16)]: Done 1176 tasks      | elapsed:    8.0s\n",
      "[Parallel(n_jobs=16)]: Done 2256 tasks      | elapsed:   11.6s\n",
      "[Parallel(n_jobs=16)]: Done 3480 tasks      | elapsed:   15.7s\n",
      "[Parallel(n_jobs=16)]: Done 3570 out of 3570 | elapsed:   15.9s finished\n"
     ]
    },
    {
     "name": "stdout",
     "output_type": "stream",
     "text": [
      "20190314\r"
     ]
    },
    {
     "name": "stderr",
     "output_type": "stream",
     "text": [
      "[Parallel(n_jobs=16)]: Using backend LokyBackend with 16 concurrent workers.\n",
      "[Parallel(n_jobs=16)]: Done  40 tasks      | elapsed:    1.7s\n",
      "[Parallel(n_jobs=16)]: Done 130 tasks      | elapsed:    2.3s\n",
      "[Parallel(n_jobs=16)]: Done 256 tasks      | elapsed:    3.2s\n",
      "[Parallel(n_jobs=16)]: Done 420 tasks      | elapsed:    4.4s\n",
      "[Parallel(n_jobs=16)]: Done 816 tasks      | elapsed:    6.3s\n",
      "[Parallel(n_jobs=16)]: Done 1512 tasks      | elapsed:    8.4s\n",
      "[Parallel(n_jobs=16)]: Done 2592 tasks      | elapsed:   12.2s\n",
      "[Parallel(n_jobs=16)]: Done 3541 out of 3572 | elapsed:   15.7s remaining:    0.1s\n",
      "[Parallel(n_jobs=16)]: Done 3572 out of 3572 | elapsed:   15.8s finished\n"
     ]
    },
    {
     "name": "stdout",
     "output_type": "stream",
     "text": [
      "20190315\r"
     ]
    },
    {
     "name": "stderr",
     "output_type": "stream",
     "text": [
      "[Parallel(n_jobs=16)]: Using backend LokyBackend with 16 concurrent workers.\n",
      "[Parallel(n_jobs=16)]: Done  40 tasks      | elapsed:    1.6s\n",
      "[Parallel(n_jobs=16)]: Done 130 tasks      | elapsed:    2.3s\n",
      "[Parallel(n_jobs=16)]: Done 256 tasks      | elapsed:    3.3s\n",
      "[Parallel(n_jobs=16)]: Done 418 tasks      | elapsed:    4.5s\n",
      "[Parallel(n_jobs=16)]: Done 616 tasks      | elapsed:    6.0s\n",
      "[Parallel(n_jobs=16)]: Done 1464 tasks      | elapsed:    8.7s\n",
      "[Parallel(n_jobs=16)]: Done 2544 tasks      | elapsed:   13.4s\n",
      "[Parallel(n_jobs=16)]: Done 3574 out of 3574 | elapsed:   17.4s finished\n"
     ]
    },
    {
     "name": "stdout",
     "output_type": "stream",
     "text": [
      "20190318\r"
     ]
    },
    {
     "name": "stderr",
     "output_type": "stream",
     "text": [
      "[Parallel(n_jobs=16)]: Using backend LokyBackend with 16 concurrent workers.\n",
      "[Parallel(n_jobs=16)]: Done  40 tasks      | elapsed:    1.6s\n",
      "[Parallel(n_jobs=16)]: Done 130 tasks      | elapsed:    2.2s\n",
      "[Parallel(n_jobs=16)]: Done 352 tasks      | elapsed:    3.4s\n",
      "[Parallel(n_jobs=16)]: Done 676 tasks      | elapsed:    4.6s\n",
      "[Parallel(n_jobs=16)]: Done 1440 tasks      | elapsed:    7.1s\n",
      "[Parallel(n_jobs=16)]: Done 2376 tasks      | elapsed:   10.5s\n",
      "[Parallel(n_jobs=16)]: Done 3456 tasks      | elapsed:   14.9s\n",
      "[Parallel(n_jobs=16)]: Done 3570 out of 3570 | elapsed:   15.3s finished\n"
     ]
    },
    {
     "name": "stdout",
     "output_type": "stream",
     "text": [
      "20190319\r"
     ]
    },
    {
     "name": "stderr",
     "output_type": "stream",
     "text": [
      "[Parallel(n_jobs=16)]: Using backend LokyBackend with 16 concurrent workers.\n",
      "[Parallel(n_jobs=16)]: Done  40 tasks      | elapsed:    1.6s\n",
      "[Parallel(n_jobs=16)]: Done 130 tasks      | elapsed:    2.3s\n",
      "[Parallel(n_jobs=16)]: Done 256 tasks      | elapsed:    3.1s\n",
      "[Parallel(n_jobs=16)]: Done 418 tasks      | elapsed:    4.3s\n",
      "[Parallel(n_jobs=16)]: Done 848 tasks      | elapsed:    5.9s\n",
      "[Parallel(n_jobs=16)]: Done 1784 tasks      | elapsed:    9.2s\n",
      "[Parallel(n_jobs=16)]: Done 2864 tasks      | elapsed:   13.5s\n",
      "[Parallel(n_jobs=16)]: Done 3571 out of 3571 | elapsed:   16.2s finished\n"
     ]
    },
    {
     "name": "stdout",
     "output_type": "stream",
     "text": [
      "20190320\r"
     ]
    },
    {
     "name": "stderr",
     "output_type": "stream",
     "text": [
      "[Parallel(n_jobs=16)]: Using backend LokyBackend with 16 concurrent workers.\n",
      "[Parallel(n_jobs=16)]: Done  40 tasks      | elapsed:    1.6s\n",
      "[Parallel(n_jobs=16)]: Done 130 tasks      | elapsed:    2.3s\n",
      "[Parallel(n_jobs=16)]: Done 256 tasks      | elapsed:    3.2s\n",
      "[Parallel(n_jobs=16)]: Done 418 tasks      | elapsed:    4.5s\n",
      "[Parallel(n_jobs=16)]: Done 912 tasks      | elapsed:    6.2s\n",
      "[Parallel(n_jobs=16)]: Done 1848 tasks      | elapsed:    9.5s\n",
      "[Parallel(n_jobs=16)]: Done 2928 tasks      | elapsed:   13.2s\n",
      "[Parallel(n_jobs=16)]: Done 3573 out of 3573 | elapsed:   16.5s finished\n"
     ]
    },
    {
     "name": "stdout",
     "output_type": "stream",
     "text": [
      "20190321\r"
     ]
    },
    {
     "name": "stderr",
     "output_type": "stream",
     "text": [
      "[Parallel(n_jobs=16)]: Using backend LokyBackend with 16 concurrent workers.\n",
      "[Parallel(n_jobs=16)]: Done  40 tasks      | elapsed:    1.6s\n",
      "[Parallel(n_jobs=16)]: Done 164 tasks      | elapsed:    2.3s\n",
      "[Parallel(n_jobs=16)]: Done 416 tasks      | elapsed:    3.5s\n",
      "[Parallel(n_jobs=16)]: Done 740 tasks      | elapsed:    4.9s\n",
      "[Parallel(n_jobs=16)]: Done 1280 tasks      | elapsed:    6.6s\n",
      "[Parallel(n_jobs=16)]: Done 2216 tasks      | elapsed:   10.0s\n",
      "[Parallel(n_jobs=16)]: Done 3296 tasks      | elapsed:   13.9s\n",
      "[Parallel(n_jobs=16)]: Done 3541 out of 3572 | elapsed:   14.7s remaining:    0.1s\n",
      "[Parallel(n_jobs=16)]: Done 3572 out of 3572 | elapsed:   14.8s finished\n"
     ]
    },
    {
     "name": "stdout",
     "output_type": "stream",
     "text": [
      "20190322\r"
     ]
    },
    {
     "name": "stderr",
     "output_type": "stream",
     "text": [
      "[Parallel(n_jobs=16)]: Using backend LokyBackend with 16 concurrent workers.\n",
      "[Parallel(n_jobs=16)]: Done  40 tasks      | elapsed:    1.6s\n",
      "[Parallel(n_jobs=16)]: Done 130 tasks      | elapsed:    2.2s\n",
      "[Parallel(n_jobs=16)]: Done 320 tasks      | elapsed:    3.3s\n",
      "[Parallel(n_jobs=16)]: Done 644 tasks      | elapsed:    4.7s\n",
      "[Parallel(n_jobs=16)]: Done 1040 tasks      | elapsed:    6.5s\n",
      "[Parallel(n_jobs=16)]: Done 1508 tasks      | elapsed:    8.6s\n",
      "[Parallel(n_jobs=16)]: Done 2432 tasks      | elapsed:   11.6s\n",
      "[Parallel(n_jobs=16)]: Done 3539 out of 3570 | elapsed:   15.6s remaining:    0.1s\n",
      "[Parallel(n_jobs=16)]: Done 3570 out of 3570 | elapsed:   15.6s finished\n"
     ]
    },
    {
     "name": "stdout",
     "output_type": "stream",
     "text": [
      "20190325\r"
     ]
    },
    {
     "name": "stderr",
     "output_type": "stream",
     "text": [
      "[Parallel(n_jobs=16)]: Using backend LokyBackend with 16 concurrent workers.\n",
      "[Parallel(n_jobs=16)]: Done  40 tasks      | elapsed:    1.6s\n",
      "[Parallel(n_jobs=16)]: Done 130 tasks      | elapsed:    2.3s\n",
      "[Parallel(n_jobs=16)]: Done 256 tasks      | elapsed:    3.2s\n",
      "[Parallel(n_jobs=16)]: Done 418 tasks      | elapsed:    4.4s\n",
      "[Parallel(n_jobs=16)]: Done 616 tasks      | elapsed:    5.9s\n",
      "[Parallel(n_jobs=16)]: Done 850 tasks      | elapsed:    7.6s\n",
      "[Parallel(n_jobs=16)]: Done 1472 tasks      | elapsed:   10.1s\n",
      "[Parallel(n_jobs=16)]: Done 2696 tasks      | elapsed:   14.4s\n",
      "[Parallel(n_jobs=16)]: Done 3533 out of 3564 | elapsed:   17.3s remaining:    0.2s\n",
      "[Parallel(n_jobs=16)]: Done 3564 out of 3564 | elapsed:   17.4s finished\n"
     ]
    },
    {
     "name": "stdout",
     "output_type": "stream",
     "text": [
      "20190326\r"
     ]
    },
    {
     "name": "stderr",
     "output_type": "stream",
     "text": [
      "[Parallel(n_jobs=16)]: Using backend LokyBackend with 16 concurrent workers.\n",
      "[Parallel(n_jobs=16)]: Done  40 tasks      | elapsed:    1.7s\n",
      "[Parallel(n_jobs=16)]: Done 130 tasks      | elapsed:    2.4s\n",
      "[Parallel(n_jobs=16)]: Done 256 tasks      | elapsed:    3.3s\n",
      "[Parallel(n_jobs=16)]: Done 516 tasks      | elapsed:    4.6s\n",
      "[Parallel(n_jobs=16)]: Done 912 tasks      | elapsed:    6.4s\n",
      "[Parallel(n_jobs=16)]: Done 1416 tasks      | elapsed:    8.3s\n",
      "[Parallel(n_jobs=16)]: Done 2496 tasks      | elapsed:   12.1s\n",
      "[Parallel(n_jobs=16)]: Done 3534 out of 3565 | elapsed:   16.4s remaining:    0.1s\n",
      "[Parallel(n_jobs=16)]: Done 3565 out of 3565 | elapsed:   16.5s finished\n"
     ]
    },
    {
     "name": "stdout",
     "output_type": "stream",
     "text": [
      "20190327\r"
     ]
    },
    {
     "name": "stderr",
     "output_type": "stream",
     "text": [
      "[Parallel(n_jobs=16)]: Using backend LokyBackend with 16 concurrent workers.\n",
      "[Parallel(n_jobs=16)]: Done  40 tasks      | elapsed:    1.7s\n",
      "[Parallel(n_jobs=16)]: Done 130 tasks      | elapsed:    2.4s\n",
      "[Parallel(n_jobs=16)]: Done 256 tasks      | elapsed:    3.4s\n",
      "[Parallel(n_jobs=16)]: Done 418 tasks      | elapsed:    4.6s\n",
      "[Parallel(n_jobs=16)]: Done 616 tasks      | elapsed:    6.1s\n",
      "[Parallel(n_jobs=16)]: Done 1200 tasks      | elapsed:    8.3s\n",
      "[Parallel(n_jobs=16)]: Done 3360 tasks      | elapsed:   17.0s\n",
      "[Parallel(n_jobs=16)]: Done 3560 out of 3560 | elapsed:   17.6s finished\n"
     ]
    },
    {
     "name": "stdout",
     "output_type": "stream",
     "text": [
      "20190328\r"
     ]
    },
    {
     "name": "stderr",
     "output_type": "stream",
     "text": [
      "[Parallel(n_jobs=16)]: Using backend LokyBackend with 16 concurrent workers.\n",
      "[Parallel(n_jobs=16)]: Done  40 tasks      | elapsed:    1.7s\n",
      "[Parallel(n_jobs=16)]: Done 130 tasks      | elapsed:    2.3s\n",
      "[Parallel(n_jobs=16)]: Done 256 tasks      | elapsed:    3.4s\n",
      "[Parallel(n_jobs=16)]: Done 418 tasks      | elapsed:    4.6s\n",
      "[Parallel(n_jobs=16)]: Done 912 tasks      | elapsed:    6.3s\n",
      "[Parallel(n_jobs=16)]: Done 1848 tasks      | elapsed:    9.7s\n",
      "[Parallel(n_jobs=16)]: Done 2928 tasks      | elapsed:   14.2s\n",
      "[Parallel(n_jobs=16)]: Done 3562 out of 3562 | elapsed:   16.9s finished\n"
     ]
    },
    {
     "name": "stdout",
     "output_type": "stream",
     "text": [
      "20190329\r"
     ]
    },
    {
     "name": "stderr",
     "output_type": "stream",
     "text": [
      "[Parallel(n_jobs=16)]: Using backend LokyBackend with 16 concurrent workers.\n",
      "[Parallel(n_jobs=16)]: Done  40 tasks      | elapsed:    1.7s\n",
      "[Parallel(n_jobs=16)]: Done 130 tasks      | elapsed:    2.3s\n",
      "[Parallel(n_jobs=16)]: Done 272 tasks      | elapsed:    3.2s\n",
      "[Parallel(n_jobs=16)]: Done 888 tasks      | elapsed:    5.2s\n",
      "[Parallel(n_jobs=16)]: Done 1680 tasks      | elapsed:    7.8s\n",
      "[Parallel(n_jobs=16)]: Done 2616 tasks      | elapsed:   10.7s\n",
      "[Parallel(n_jobs=16)]: Done 3565 out of 3565 | elapsed:   14.1s finished\n"
     ]
    },
    {
     "name": "stdout",
     "output_type": "stream",
     "text": [
      "20190401\r"
     ]
    },
    {
     "name": "stderr",
     "output_type": "stream",
     "text": [
      "[Parallel(n_jobs=16)]: Using backend LokyBackend with 16 concurrent workers.\n",
      "[Parallel(n_jobs=16)]: Done  40 tasks      | elapsed:    1.6s\n",
      "[Parallel(n_jobs=16)]: Done 130 tasks      | elapsed:    2.2s\n",
      "[Parallel(n_jobs=16)]: Done 256 tasks      | elapsed:    3.1s\n",
      "[Parallel(n_jobs=16)]: Done 436 tasks      | elapsed:    4.2s\n",
      "[Parallel(n_jobs=16)]: Done 1200 tasks      | elapsed:    6.5s\n",
      "[Parallel(n_jobs=16)]: Done 2136 tasks      | elapsed:    9.4s\n",
      "[Parallel(n_jobs=16)]: Done 3216 tasks      | elapsed:   13.6s\n",
      "[Parallel(n_jobs=16)]: Done 3538 out of 3569 | elapsed:   14.6s remaining:    0.1s\n",
      "[Parallel(n_jobs=16)]: Done 3569 out of 3569 | elapsed:   14.7s finished\n"
     ]
    },
    {
     "name": "stdout",
     "output_type": "stream",
     "text": [
      "20190402\r"
     ]
    },
    {
     "name": "stderr",
     "output_type": "stream",
     "text": [
      "[Parallel(n_jobs=16)]: Using backend LokyBackend with 16 concurrent workers.\n",
      "[Parallel(n_jobs=16)]: Done  40 tasks      | elapsed:    1.5s\n",
      "[Parallel(n_jobs=16)]: Done 148 tasks      | elapsed:    2.2s\n",
      "[Parallel(n_jobs=16)]: Done 400 tasks      | elapsed:    3.3s\n",
      "[Parallel(n_jobs=16)]: Done 824 tasks      | elapsed:    4.7s\n",
      "[Parallel(n_jobs=16)]: Done 1616 tasks      | elapsed:    7.2s\n",
      "[Parallel(n_jobs=16)]: Done 2552 tasks      | elapsed:   10.3s\n",
      "[Parallel(n_jobs=16)]: Done 3574 out of 3574 | elapsed:   13.6s finished\n"
     ]
    },
    {
     "name": "stdout",
     "output_type": "stream",
     "text": [
      "20190403\r"
     ]
    },
    {
     "name": "stderr",
     "output_type": "stream",
     "text": [
      "[Parallel(n_jobs=16)]: Using backend LokyBackend with 16 concurrent workers.\n",
      "[Parallel(n_jobs=16)]: Done  40 tasks      | elapsed:    1.5s\n",
      "[Parallel(n_jobs=16)]: Done 130 tasks      | elapsed:    2.2s\n",
      "[Parallel(n_jobs=16)]: Done 256 tasks      | elapsed:    3.1s\n",
      "[Parallel(n_jobs=16)]: Done 600 tasks      | elapsed:    4.3s\n",
      "[Parallel(n_jobs=16)]: Done 1392 tasks      | elapsed:    6.7s\n",
      "[Parallel(n_jobs=16)]: Done 2328 tasks      | elapsed:    9.5s\n",
      "[Parallel(n_jobs=16)]: Done 3408 tasks      | elapsed:   12.9s\n",
      "[Parallel(n_jobs=16)]: Done 3566 out of 3566 | elapsed:   13.5s finished\n"
     ]
    },
    {
     "name": "stdout",
     "output_type": "stream",
     "text": [
      "20190404\r"
     ]
    },
    {
     "name": "stderr",
     "output_type": "stream",
     "text": [
      "[Parallel(n_jobs=16)]: Using backend LokyBackend with 16 concurrent workers.\n",
      "[Parallel(n_jobs=16)]: Done  40 tasks      | elapsed:    1.6s\n",
      "[Parallel(n_jobs=16)]: Done 164 tasks      | elapsed:    2.3s\n",
      "[Parallel(n_jobs=16)]: Done 416 tasks      | elapsed:    3.4s\n",
      "[Parallel(n_jobs=16)]: Done 744 tasks      | elapsed:    4.7s\n",
      "[Parallel(n_jobs=16)]: Done 2208 tasks      | elapsed:    9.1s\n",
      "[Parallel(n_jobs=16)]: Done 3568 out of 3568 | elapsed:   13.3s finished\n"
     ]
    },
    {
     "name": "stdout",
     "output_type": "stream",
     "text": [
      "20190408\r"
     ]
    },
    {
     "name": "stderr",
     "output_type": "stream",
     "text": [
      "[Parallel(n_jobs=16)]: Using backend LokyBackend with 16 concurrent workers.\n",
      "[Parallel(n_jobs=16)]: Done  40 tasks      | elapsed:    1.5s\n",
      "[Parallel(n_jobs=16)]: Done 164 tasks      | elapsed:    2.2s\n",
      "[Parallel(n_jobs=16)]: Done 416 tasks      | elapsed:    3.2s\n",
      "[Parallel(n_jobs=16)]: Done 740 tasks      | elapsed:    4.4s\n",
      "[Parallel(n_jobs=16)]: Done 1440 tasks      | elapsed:    6.3s\n",
      "[Parallel(n_jobs=16)]: Done 2376 tasks      | elapsed:    9.0s\n",
      "[Parallel(n_jobs=16)]: Done 3456 tasks      | elapsed:   12.3s\n",
      "[Parallel(n_jobs=16)]: Done 3575 out of 3575 | elapsed:   12.7s finished\n"
     ]
    },
    {
     "name": "stdout",
     "output_type": "stream",
     "text": [
      "20190409\r"
     ]
    },
    {
     "name": "stderr",
     "output_type": "stream",
     "text": [
      "[Parallel(n_jobs=16)]: Using backend LokyBackend with 16 concurrent workers.\n",
      "[Parallel(n_jobs=16)]: Done  40 tasks      | elapsed:    1.6s\n",
      "[Parallel(n_jobs=16)]: Done 216 tasks      | elapsed:    2.3s\n",
      "[Parallel(n_jobs=16)]: Done 720 tasks      | elapsed:    4.7s\n",
      "[Parallel(n_jobs=16)]: Done 1368 tasks      | elapsed:    6.4s\n",
      "[Parallel(n_jobs=16)]: Done 2160 tasks      | elapsed:    8.7s\n",
      "[Parallel(n_jobs=16)]: Done 3096 tasks      | elapsed:   11.3s\n",
      "[Parallel(n_jobs=16)]: Done 3575 out of 3575 | elapsed:   12.5s finished\n"
     ]
    },
    {
     "name": "stdout",
     "output_type": "stream",
     "text": [
      "20190410\r"
     ]
    },
    {
     "name": "stderr",
     "output_type": "stream",
     "text": [
      "[Parallel(n_jobs=16)]: Using backend LokyBackend with 16 concurrent workers.\n",
      "[Parallel(n_jobs=16)]: Done  40 tasks      | elapsed:    1.5s\n",
      "[Parallel(n_jobs=16)]: Done 164 tasks      | elapsed:    2.1s\n",
      "[Parallel(n_jobs=16)]: Done 416 tasks      | elapsed:    3.3s\n",
      "[Parallel(n_jobs=16)]: Done 740 tasks      | elapsed:    4.7s\n",
      "[Parallel(n_jobs=16)]: Done 1136 tasks      | elapsed:    6.4s\n",
      "[Parallel(n_jobs=16)]: Done 1604 tasks      | elapsed:    8.2s\n",
      "[Parallel(n_jobs=16)]: Done 3168 tasks      | elapsed:   12.8s\n",
      "[Parallel(n_jobs=16)]: Done 3578 out of 3578 | elapsed:   13.9s finished\n"
     ]
    },
    {
     "name": "stdout",
     "output_type": "stream",
     "text": [
      "20190411\r"
     ]
    },
    {
     "name": "stderr",
     "output_type": "stream",
     "text": [
      "[Parallel(n_jobs=16)]: Using backend LokyBackend with 16 concurrent workers.\n",
      "[Parallel(n_jobs=16)]: Done  40 tasks      | elapsed:    1.6s\n",
      "[Parallel(n_jobs=16)]: Done 130 tasks      | elapsed:    2.2s\n",
      "[Parallel(n_jobs=16)]: Done 352 tasks      | elapsed:    3.3s\n",
      "[Parallel(n_jobs=16)]: Done 676 tasks      | elapsed:    4.8s\n",
      "[Parallel(n_jobs=16)]: Done 1088 tasks      | elapsed:    6.4s\n",
      "[Parallel(n_jobs=16)]: Done 2864 tasks      | elapsed:   11.3s\n",
      "[Parallel(n_jobs=16)]: Done 3574 out of 3574 | elapsed:   13.2s finished\n"
     ]
    },
    {
     "name": "stdout",
     "output_type": "stream",
     "text": [
      "20190412\r"
     ]
    },
    {
     "name": "stderr",
     "output_type": "stream",
     "text": [
      "[Parallel(n_jobs=16)]: Using backend LokyBackend with 16 concurrent workers.\n",
      "[Parallel(n_jobs=16)]: Done  40 tasks      | elapsed:    1.6s\n",
      "[Parallel(n_jobs=16)]: Done 130 tasks      | elapsed:    2.2s\n",
      "[Parallel(n_jobs=16)]: Done 256 tasks      | elapsed:    3.1s\n",
      "[Parallel(n_jobs=16)]: Done 418 tasks      | elapsed:    4.3s\n",
      "[Parallel(n_jobs=16)]: Done 672 tasks      | elapsed:    5.9s\n",
      "[Parallel(n_jobs=16)]: Done 1140 tasks      | elapsed:    8.4s\n",
      "[Parallel(n_jobs=16)]: Done 1680 tasks      | elapsed:   10.6s\n",
      "[Parallel(n_jobs=16)]: Done 2680 tasks      | elapsed:   13.8s\n",
      "[Parallel(n_jobs=16)]: Done 3579 out of 3579 | elapsed:   16.6s finished\n"
     ]
    },
    {
     "name": "stdout",
     "output_type": "stream",
     "text": [
      "20190415\r"
     ]
    },
    {
     "name": "stderr",
     "output_type": "stream",
     "text": [
      "[Parallel(n_jobs=16)]: Using backend LokyBackend with 16 concurrent workers.\n",
      "[Parallel(n_jobs=16)]: Done  40 tasks      | elapsed:    1.5s\n",
      "[Parallel(n_jobs=16)]: Done 130 tasks      | elapsed:    2.2s\n",
      "[Parallel(n_jobs=16)]: Done 256 tasks      | elapsed:    3.2s\n",
      "[Parallel(n_jobs=16)]: Done 418 tasks      | elapsed:    4.3s\n",
      "[Parallel(n_jobs=16)]: Done 1056 tasks      | elapsed:    6.1s\n",
      "[Parallel(n_jobs=16)]: Done 1992 tasks      | elapsed:    8.8s\n",
      "[Parallel(n_jobs=16)]: Done 3072 tasks      | elapsed:   12.0s\n",
      "[Parallel(n_jobs=16)]: Done 3580 out of 3580 | elapsed:   13.5s finished\n"
     ]
    },
    {
     "name": "stdout",
     "output_type": "stream",
     "text": [
      "20190416\r"
     ]
    },
    {
     "name": "stderr",
     "output_type": "stream",
     "text": [
      "[Parallel(n_jobs=16)]: Using backend LokyBackend with 16 concurrent workers.\n",
      "[Parallel(n_jobs=16)]: Done  40 tasks      | elapsed:    1.4s\n",
      "[Parallel(n_jobs=16)]: Done 130 tasks      | elapsed:    2.1s\n",
      "[Parallel(n_jobs=16)]: Done 368 tasks      | elapsed:    3.2s\n",
      "[Parallel(n_jobs=16)]: Done 692 tasks      | elapsed:    4.6s\n",
      "[Parallel(n_jobs=16)]: Done 1088 tasks      | elapsed:    6.0s\n",
      "[Parallel(n_jobs=16)]: Done 1944 tasks      | elapsed:    8.5s\n",
      "[Parallel(n_jobs=16)]: Done 3024 tasks      | elapsed:   11.7s\n",
      "[Parallel(n_jobs=16)]: Done 3548 out of 3579 | elapsed:   13.2s remaining:    0.1s\n",
      "[Parallel(n_jobs=16)]: Done 3579 out of 3579 | elapsed:   13.2s finished\n"
     ]
    },
    {
     "name": "stdout",
     "output_type": "stream",
     "text": [
      "20190417\r"
     ]
    },
    {
     "name": "stderr",
     "output_type": "stream",
     "text": [
      "[Parallel(n_jobs=16)]: Using backend LokyBackend with 16 concurrent workers.\n",
      "[Parallel(n_jobs=16)]: Done  40 tasks      | elapsed:    1.5s\n",
      "[Parallel(n_jobs=16)]: Done 130 tasks      | elapsed:    2.2s\n",
      "[Parallel(n_jobs=16)]: Done 256 tasks      | elapsed:    3.1s\n",
      "[Parallel(n_jobs=16)]: Done 548 tasks      | elapsed:    4.4s\n",
      "[Parallel(n_jobs=16)]: Done 944 tasks      | elapsed:    6.1s\n",
      "[Parallel(n_jobs=16)]: Done 1412 tasks      | elapsed:    8.0s\n",
      "[Parallel(n_jobs=16)]: Done 1952 tasks      | elapsed:   11.3s\n",
      "[Parallel(n_jobs=16)]: Done 2564 tasks      | elapsed:   14.0s\n",
      "[Parallel(n_jobs=16)]: Done 3248 tasks      | elapsed:   16.8s\n",
      "[Parallel(n_jobs=16)]: Done 3554 out of 3585 | elapsed:   18.1s remaining:    0.2s\n",
      "[Parallel(n_jobs=16)]: Done 3585 out of 3585 | elapsed:   18.1s finished\n"
     ]
    },
    {
     "name": "stdout",
     "output_type": "stream",
     "text": [
      "20190418\r"
     ]
    },
    {
     "name": "stderr",
     "output_type": "stream",
     "text": [
      "[Parallel(n_jobs=16)]: Using backend LokyBackend with 16 concurrent workers.\n",
      "[Parallel(n_jobs=16)]: Done  40 tasks      | elapsed:    1.2s\n",
      "[Parallel(n_jobs=16)]: Done 216 tasks      | elapsed:    1.9s\n",
      "[Parallel(n_jobs=16)]: Done 720 tasks      | elapsed:    3.4s\n",
      "[Parallel(n_jobs=16)]: Done 1368 tasks      | elapsed:    5.3s\n",
      "[Parallel(n_jobs=16)]: Done 2160 tasks      | elapsed:    7.8s\n",
      "[Parallel(n_jobs=16)]: Done 3096 tasks      | elapsed:   10.6s\n",
      "[Parallel(n_jobs=16)]: Done 3558 out of 3589 | elapsed:   12.0s remaining:    0.1s\n",
      "[Parallel(n_jobs=16)]: Done 3589 out of 3589 | elapsed:   12.0s finished\n"
     ]
    },
    {
     "name": "stdout",
     "output_type": "stream",
     "text": [
      "20190419\r"
     ]
    },
    {
     "name": "stderr",
     "output_type": "stream",
     "text": [
      "[Parallel(n_jobs=16)]: Using backend LokyBackend with 16 concurrent workers.\n",
      "[Parallel(n_jobs=16)]: Done  40 tasks      | elapsed:    1.5s\n",
      "[Parallel(n_jobs=16)]: Done 130 tasks      | elapsed:    2.1s\n",
      "[Parallel(n_jobs=16)]: Done 528 tasks      | elapsed:    3.2s\n",
      "[Parallel(n_jobs=16)]: Done 1176 tasks      | elapsed:    5.0s\n",
      "[Parallel(n_jobs=16)]: Done 1968 tasks      | elapsed:    7.5s\n",
      "[Parallel(n_jobs=16)]: Done 2904 tasks      | elapsed:   10.4s\n",
      "[Parallel(n_jobs=16)]: Done 3587 out of 3587 | elapsed:   12.5s finished\n"
     ]
    },
    {
     "name": "stdout",
     "output_type": "stream",
     "text": [
      "20190422\r"
     ]
    },
    {
     "name": "stderr",
     "output_type": "stream",
     "text": [
      "[Parallel(n_jobs=16)]: Using backend LokyBackend with 16 concurrent workers.\n",
      "[Parallel(n_jobs=16)]: Done  40 tasks      | elapsed:    1.6s\n",
      "[Parallel(n_jobs=16)]: Done 130 tasks      | elapsed:    2.3s\n",
      "[Parallel(n_jobs=16)]: Done 256 tasks      | elapsed:    3.2s\n",
      "[Parallel(n_jobs=16)]: Done 516 tasks      | elapsed:    4.3s\n",
      "[Parallel(n_jobs=16)]: Done 1216 tasks      | elapsed:    6.5s\n",
      "[Parallel(n_jobs=16)]: Done 2152 tasks      | elapsed:    9.3s\n",
      "[Parallel(n_jobs=16)]: Done 3232 tasks      | elapsed:   13.6s\n",
      "[Parallel(n_jobs=16)]: Done 3555 out of 3586 | elapsed:   14.6s remaining:    0.1s\n",
      "[Parallel(n_jobs=16)]: Done 3586 out of 3586 | elapsed:   14.7s finished\n"
     ]
    },
    {
     "name": "stdout",
     "output_type": "stream",
     "text": [
      "20190423\r"
     ]
    },
    {
     "name": "stderr",
     "output_type": "stream",
     "text": [
      "[Parallel(n_jobs=16)]: Using backend LokyBackend with 16 concurrent workers.\n",
      "[Parallel(n_jobs=16)]: Done  40 tasks      | elapsed:    1.5s\n",
      "[Parallel(n_jobs=16)]: Done 130 tasks      | elapsed:    2.1s\n",
      "[Parallel(n_jobs=16)]: Done 352 tasks      | elapsed:    3.0s\n",
      "[Parallel(n_jobs=16)]: Done 936 tasks      | elapsed:    4.5s\n",
      "[Parallel(n_jobs=16)]: Done 1728 tasks      | elapsed:    7.0s\n",
      "[Parallel(n_jobs=16)]: Done 2664 tasks      | elapsed:    9.9s\n",
      "[Parallel(n_jobs=16)]: Done 3585 out of 3585 | elapsed:   12.6s finished\n"
     ]
    },
    {
     "name": "stdout",
     "output_type": "stream",
     "text": [
      "20190424\r"
     ]
    },
    {
     "name": "stderr",
     "output_type": "stream",
     "text": [
      "[Parallel(n_jobs=16)]: Using backend LokyBackend with 16 concurrent workers.\n",
      "[Parallel(n_jobs=16)]: Done  40 tasks      | elapsed:    1.5s\n",
      "[Parallel(n_jobs=16)]: Done 148 tasks      | elapsed:    2.2s\n",
      "[Parallel(n_jobs=16)]: Done 400 tasks      | elapsed:    3.3s\n",
      "[Parallel(n_jobs=16)]: Done 824 tasks      | elapsed:    4.6s\n",
      "[Parallel(n_jobs=16)]: Done 1616 tasks      | elapsed:    6.8s\n",
      "[Parallel(n_jobs=16)]: Done 2552 tasks      | elapsed:    9.7s\n",
      "[Parallel(n_jobs=16)]: Done 3587 out of 3587 | elapsed:   12.9s finished\n"
     ]
    },
    {
     "name": "stdout",
     "output_type": "stream",
     "text": [
      "20190425\r"
     ]
    },
    {
     "name": "stderr",
     "output_type": "stream",
     "text": [
      "[Parallel(n_jobs=16)]: Using backend LokyBackend with 16 concurrent workers.\n",
      "[Parallel(n_jobs=16)]: Done  40 tasks      | elapsed:    1.5s\n",
      "[Parallel(n_jobs=16)]: Done 132 tasks      | elapsed:    2.2s\n",
      "[Parallel(n_jobs=16)]: Done 384 tasks      | elapsed:    3.3s\n",
      "[Parallel(n_jobs=16)]: Done 708 tasks      | elapsed:    4.7s\n",
      "[Parallel(n_jobs=16)]: Done 1504 tasks      | elapsed:    7.0s\n",
      "[Parallel(n_jobs=16)]: Done 3376 tasks      | elapsed:   13.1s\n",
      "[Parallel(n_jobs=16)]: Done 3579 out of 3579 | elapsed:   13.8s finished\n"
     ]
    },
    {
     "name": "stdout",
     "output_type": "stream",
     "text": [
      "20190426\r"
     ]
    },
    {
     "name": "stderr",
     "output_type": "stream",
     "text": [
      "[Parallel(n_jobs=16)]: Using backend LokyBackend with 16 concurrent workers.\n",
      "[Parallel(n_jobs=16)]: Done  40 tasks      | elapsed:    1.4s\n",
      "[Parallel(n_jobs=16)]: Done 216 tasks      | elapsed:    2.2s\n",
      "[Parallel(n_jobs=16)]: Done 720 tasks      | elapsed:    3.9s\n",
      "[Parallel(n_jobs=16)]: Done 1368 tasks      | elapsed:    5.7s\n",
      "[Parallel(n_jobs=16)]: Done 2160 tasks      | elapsed:    7.9s\n",
      "[Parallel(n_jobs=16)]: Done 3096 tasks      | elapsed:   10.8s\n",
      "[Parallel(n_jobs=16)]: Done 3546 out of 3577 | elapsed:   12.1s remaining:    0.1s\n",
      "[Parallel(n_jobs=16)]: Done 3577 out of 3577 | elapsed:   12.2s finished\n"
     ]
    },
    {
     "name": "stdout",
     "output_type": "stream",
     "text": [
      "20190429\r"
     ]
    },
    {
     "name": "stderr",
     "output_type": "stream",
     "text": [
      "[Parallel(n_jobs=16)]: Using backend LokyBackend with 16 concurrent workers.\n",
      "[Parallel(n_jobs=16)]: Done  40 tasks      | elapsed:    1.5s\n",
      "[Parallel(n_jobs=16)]: Done 130 tasks      | elapsed:    2.1s\n",
      "[Parallel(n_jobs=16)]: Done 352 tasks      | elapsed:    3.2s\n",
      "[Parallel(n_jobs=16)]: Done 676 tasks      | elapsed:    4.5s\n",
      "[Parallel(n_jobs=16)]: Done 1088 tasks      | elapsed:    5.9s\n",
      "[Parallel(n_jobs=16)]: Done 2864 tasks      | elapsed:   11.2s\n",
      "[Parallel(n_jobs=16)]: Done 3568 out of 3568 | elapsed:   13.3s finished\n"
     ]
    },
    {
     "name": "stdout",
     "output_type": "stream",
     "text": [
      "20190430\r"
     ]
    },
    {
     "name": "stderr",
     "output_type": "stream",
     "text": [
      "[Parallel(n_jobs=16)]: Using backend LokyBackend with 16 concurrent workers.\n",
      "[Parallel(n_jobs=16)]: Done  40 tasks      | elapsed:    1.5s\n",
      "[Parallel(n_jobs=16)]: Done 164 tasks      | elapsed:    2.1s\n",
      "[Parallel(n_jobs=16)]: Done 416 tasks      | elapsed:    3.2s\n",
      "[Parallel(n_jobs=16)]: Done 740 tasks      | elapsed:    4.6s\n",
      "[Parallel(n_jobs=16)]: Done 1136 tasks      | elapsed:    6.3s\n",
      "[Parallel(n_jobs=16)]: Done 2576 tasks      | elapsed:   10.3s\n",
      "[Parallel(n_jobs=16)]: Done 3552 out of 3552 | elapsed:   13.3s finished\n"
     ]
    },
    {
     "name": "stdout",
     "output_type": "stream",
     "text": [
      "20190506\r"
     ]
    },
    {
     "name": "stderr",
     "output_type": "stream",
     "text": [
      "[Parallel(n_jobs=16)]: Using backend LokyBackend with 16 concurrent workers.\n",
      "[Parallel(n_jobs=16)]: Done  40 tasks      | elapsed:    1.5s\n",
      "[Parallel(n_jobs=16)]: Done 164 tasks      | elapsed:    2.1s\n",
      "[Parallel(n_jobs=16)]: Done 416 tasks      | elapsed:    3.2s\n",
      "[Parallel(n_jobs=16)]: Done 740 tasks      | elapsed:    4.6s\n",
      "[Parallel(n_jobs=16)]: Done 1136 tasks      | elapsed:    6.1s\n",
      "[Parallel(n_jobs=16)]: Done 2448 tasks      | elapsed:   10.0s\n",
      "[Parallel(n_jobs=16)]: Done 3575 out of 3575 | elapsed:   13.3s finished\n"
     ]
    },
    {
     "name": "stdout",
     "output_type": "stream",
     "text": [
      "20190507\r"
     ]
    },
    {
     "name": "stderr",
     "output_type": "stream",
     "text": [
      "[Parallel(n_jobs=16)]: Using backend LokyBackend with 16 concurrent workers.\n",
      "[Parallel(n_jobs=16)]: Done  40 tasks      | elapsed:    1.5s\n",
      "[Parallel(n_jobs=16)]: Done 130 tasks      | elapsed:    2.1s\n",
      "[Parallel(n_jobs=16)]: Done 256 tasks      | elapsed:    3.0s\n",
      "[Parallel(n_jobs=16)]: Done 548 tasks      | elapsed:    4.3s\n",
      "[Parallel(n_jobs=16)]: Done 944 tasks      | elapsed:    6.1s\n",
      "[Parallel(n_jobs=16)]: Done 1412 tasks      | elapsed:    8.5s\n",
      "[Parallel(n_jobs=16)]: Done 1952 tasks      | elapsed:   10.6s\n",
      "[Parallel(n_jobs=16)]: Done 2564 tasks      | elapsed:   13.1s\n",
      "[Parallel(n_jobs=16)]: Done 3248 tasks      | elapsed:   16.0s\n",
      "[Parallel(n_jobs=16)]: Done 3546 out of 3577 | elapsed:   17.2s remaining:    0.2s\n",
      "[Parallel(n_jobs=16)]: Done 3577 out of 3577 | elapsed:   17.2s finished\n"
     ]
    },
    {
     "name": "stdout",
     "output_type": "stream",
     "text": [
      "20190508\r"
     ]
    },
    {
     "name": "stderr",
     "output_type": "stream",
     "text": [
      "[Parallel(n_jobs=16)]: Using backend LokyBackend with 16 concurrent workers.\n",
      "[Parallel(n_jobs=16)]: Done  40 tasks      | elapsed:    1.6s\n",
      "[Parallel(n_jobs=16)]: Done 130 tasks      | elapsed:    2.1s\n",
      "[Parallel(n_jobs=16)]: Done 720 tasks      | elapsed:    3.7s\n",
      "[Parallel(n_jobs=16)]: Done 2016 tasks      | elapsed:    7.8s\n",
      "[Parallel(n_jobs=16)]: Done 3488 tasks      | elapsed:   12.4s\n",
      "[Parallel(n_jobs=16)]: Done 3546 out of 3577 | elapsed:   12.5s remaining:    0.1s\n",
      "[Parallel(n_jobs=16)]: Done 3577 out of 3577 | elapsed:   12.6s finished\n"
     ]
    },
    {
     "name": "stdout",
     "output_type": "stream",
     "text": [
      "20190509\r"
     ]
    },
    {
     "name": "stderr",
     "output_type": "stream",
     "text": [
      "[Parallel(n_jobs=16)]: Using backend LokyBackend with 16 concurrent workers.\n",
      "[Parallel(n_jobs=16)]: Done  40 tasks      | elapsed:    1.5s\n",
      "[Parallel(n_jobs=16)]: Done 130 tasks      | elapsed:    2.2s\n",
      "[Parallel(n_jobs=16)]: Done 256 tasks      | elapsed:    3.0s\n",
      "[Parallel(n_jobs=16)]: Done 944 tasks      | elapsed:    5.0s\n",
      "[Parallel(n_jobs=16)]: Done 2528 tasks      | elapsed:    9.7s\n",
      "[Parallel(n_jobs=16)]: Done 3583 out of 3583 | elapsed:   12.8s finished\n"
     ]
    },
    {
     "name": "stdout",
     "output_type": "stream",
     "text": [
      "20190510\r"
     ]
    },
    {
     "name": "stderr",
     "output_type": "stream",
     "text": [
      "[Parallel(n_jobs=16)]: Using backend LokyBackend with 16 concurrent workers.\n",
      "[Parallel(n_jobs=16)]: Done  40 tasks      | elapsed:    1.5s\n",
      "[Parallel(n_jobs=16)]: Done 130 tasks      | elapsed:    2.2s\n",
      "[Parallel(n_jobs=16)]: Done 256 tasks      | elapsed:    3.1s\n",
      "[Parallel(n_jobs=16)]: Done 418 tasks      | elapsed:    4.2s\n",
      "[Parallel(n_jobs=16)]: Done 1248 tasks      | elapsed:    6.9s\n",
      "[Parallel(n_jobs=16)]: Done 3120 tasks      | elapsed:   13.8s\n",
      "[Parallel(n_jobs=16)]: Done 3584 out of 3584 | elapsed:   15.4s finished\n"
     ]
    },
    {
     "name": "stdout",
     "output_type": "stream",
     "text": [
      "20190513\r"
     ]
    },
    {
     "name": "stderr",
     "output_type": "stream",
     "text": [
      "[Parallel(n_jobs=16)]: Using backend LokyBackend with 16 concurrent workers.\n",
      "[Parallel(n_jobs=16)]: Done  40 tasks      | elapsed:    1.5s\n",
      "[Parallel(n_jobs=16)]: Done 148 tasks      | elapsed:    2.0s\n",
      "[Parallel(n_jobs=16)]: Done 624 tasks      | elapsed:    3.2s\n",
      "[Parallel(n_jobs=16)]: Done 1272 tasks      | elapsed:    5.2s\n",
      "[Parallel(n_jobs=16)]: Done 2064 tasks      | elapsed:    7.7s\n",
      "[Parallel(n_jobs=16)]: Done 3000 tasks      | elapsed:   10.5s\n",
      "[Parallel(n_jobs=16)]: Done 3550 out of 3581 | elapsed:   12.1s remaining:    0.1s\n",
      "[Parallel(n_jobs=16)]: Done 3581 out of 3581 | elapsed:   12.1s finished\n"
     ]
    },
    {
     "name": "stdout",
     "output_type": "stream",
     "text": [
      "20190514\r"
     ]
    },
    {
     "name": "stderr",
     "output_type": "stream",
     "text": [
      "[Parallel(n_jobs=16)]: Using backend LokyBackend with 16 concurrent workers.\n",
      "[Parallel(n_jobs=16)]: Done  40 tasks      | elapsed:    1.4s\n",
      "[Parallel(n_jobs=16)]: Done 216 tasks      | elapsed:    2.1s\n",
      "[Parallel(n_jobs=16)]: Done 720 tasks      | elapsed:    3.9s\n",
      "[Parallel(n_jobs=16)]: Done 1368 tasks      | elapsed:    5.7s\n",
      "[Parallel(n_jobs=16)]: Done 2160 tasks      | elapsed:    8.0s\n",
      "[Parallel(n_jobs=16)]: Done 3096 tasks      | elapsed:   10.9s\n",
      "[Parallel(n_jobs=16)]: Done 3582 out of 3582 | elapsed:   12.5s finished\n"
     ]
    },
    {
     "name": "stdout",
     "output_type": "stream",
     "text": [
      "20190515\r"
     ]
    },
    {
     "name": "stderr",
     "output_type": "stream",
     "text": [
      "[Parallel(n_jobs=16)]: Using backend LokyBackend with 16 concurrent workers.\n",
      "[Parallel(n_jobs=16)]: Done  40 tasks      | elapsed:    1.5s\n",
      "[Parallel(n_jobs=16)]: Done 180 tasks      | elapsed:    2.2s\n",
      "[Parallel(n_jobs=16)]: Done 432 tasks      | elapsed:    3.2s\n",
      "[Parallel(n_jobs=16)]: Done 756 tasks      | elapsed:    4.5s\n",
      "[Parallel(n_jobs=16)]: Done 1360 tasks      | elapsed:    6.4s\n",
      "[Parallel(n_jobs=16)]: Done 3232 tasks      | elapsed:   13.1s\n",
      "[Parallel(n_jobs=16)]: Done 3583 out of 3583 | elapsed:   14.4s finished\n"
     ]
    },
    {
     "name": "stdout",
     "output_type": "stream",
     "text": [
      "20190516\r"
     ]
    },
    {
     "name": "stderr",
     "output_type": "stream",
     "text": [
      "[Parallel(n_jobs=16)]: Using backend LokyBackend with 16 concurrent workers.\n",
      "[Parallel(n_jobs=16)]: Done  40 tasks      | elapsed:    1.5s\n",
      "[Parallel(n_jobs=16)]: Done 130 tasks      | elapsed:    2.1s\n",
      "[Parallel(n_jobs=16)]: Done 432 tasks      | elapsed:    3.2s\n",
      "[Parallel(n_jobs=16)]: Done 1080 tasks      | elapsed:    4.7s\n",
      "[Parallel(n_jobs=16)]: Done 1872 tasks      | elapsed:    7.0s\n",
      "[Parallel(n_jobs=16)]: Done 2808 tasks      | elapsed:    9.8s\n",
      "[Parallel(n_jobs=16)]: Done 3555 out of 3586 | elapsed:   12.1s remaining:    0.1s\n",
      "[Parallel(n_jobs=16)]: Done 3586 out of 3586 | elapsed:   12.1s finished\n"
     ]
    },
    {
     "name": "stdout",
     "output_type": "stream",
     "text": [
      "20190517\r"
     ]
    },
    {
     "name": "stderr",
     "output_type": "stream",
     "text": [
      "[Parallel(n_jobs=16)]: Using backend LokyBackend with 16 concurrent workers.\n",
      "[Parallel(n_jobs=16)]: Done  40 tasks      | elapsed:    1.6s\n",
      "[Parallel(n_jobs=16)]: Done 148 tasks      | elapsed:    2.3s\n",
      "[Parallel(n_jobs=16)]: Done 400 tasks      | elapsed:    3.3s\n",
      "[Parallel(n_jobs=16)]: Done 724 tasks      | elapsed:    4.6s\n",
      "[Parallel(n_jobs=16)]: Done 1424 tasks      | elapsed:    6.6s\n",
      "[Parallel(n_jobs=16)]: Done 3296 tasks      | elapsed:   12.3s\n",
      "[Parallel(n_jobs=16)]: Done 3589 out of 3589 | elapsed:   13.1s finished\n"
     ]
    },
    {
     "name": "stdout",
     "output_type": "stream",
     "text": [
      "20190520\r"
     ]
    },
    {
     "name": "stderr",
     "output_type": "stream",
     "text": [
      "[Parallel(n_jobs=16)]: Using backend LokyBackend with 16 concurrent workers.\n",
      "[Parallel(n_jobs=16)]: Done  40 tasks      | elapsed:    1.5s\n",
      "[Parallel(n_jobs=16)]: Done 148 tasks      | elapsed:    2.2s\n",
      "[Parallel(n_jobs=16)]: Done 400 tasks      | elapsed:    3.2s\n",
      "[Parallel(n_jobs=16)]: Done 724 tasks      | elapsed:    4.6s\n",
      "[Parallel(n_jobs=16)]: Done 1200 tasks      | elapsed:    6.2s\n",
      "[Parallel(n_jobs=16)]: Done 2136 tasks      | elapsed:    8.8s\n",
      "[Parallel(n_jobs=16)]: Done 3216 tasks      | elapsed:   12.8s\n",
      "[Parallel(n_jobs=16)]: Done 3586 out of 3586 | elapsed:   14.0s finished\n"
     ]
    },
    {
     "name": "stdout",
     "output_type": "stream",
     "text": [
      "20190521\r"
     ]
    },
    {
     "name": "stderr",
     "output_type": "stream",
     "text": [
      "[Parallel(n_jobs=16)]: Using backend LokyBackend with 16 concurrent workers.\n",
      "[Parallel(n_jobs=16)]: Done  40 tasks      | elapsed:    1.5s\n",
      "[Parallel(n_jobs=16)]: Done 216 tasks      | elapsed:    2.3s\n",
      "[Parallel(n_jobs=16)]: Done 720 tasks      | elapsed:    4.0s\n",
      "[Parallel(n_jobs=16)]: Done 1368 tasks      | elapsed:    5.9s\n",
      "[Parallel(n_jobs=16)]: Done 2160 tasks      | elapsed:    7.9s\n",
      "[Parallel(n_jobs=16)]: Done 3096 tasks      | elapsed:   10.5s\n",
      "[Parallel(n_jobs=16)]: Done 3590 out of 3590 | elapsed:   11.7s finished\n"
     ]
    },
    {
     "name": "stdout",
     "output_type": "stream",
     "text": [
      "20190522\r"
     ]
    },
    {
     "name": "stderr",
     "output_type": "stream",
     "text": [
      "[Parallel(n_jobs=16)]: Using backend LokyBackend with 16 concurrent workers.\n",
      "[Parallel(n_jobs=16)]: Done  40 tasks      | elapsed:    1.5s\n",
      "[Parallel(n_jobs=16)]: Done 130 tasks      | elapsed:    2.1s\n",
      "[Parallel(n_jobs=16)]: Done 368 tasks      | elapsed:    3.2s\n",
      "[Parallel(n_jobs=16)]: Done 692 tasks      | elapsed:    4.6s\n",
      "[Parallel(n_jobs=16)]: Done 1088 tasks      | elapsed:    6.3s\n",
      "[Parallel(n_jobs=16)]: Done 1920 tasks      | elapsed:    8.7s\n",
      "[Parallel(n_jobs=16)]: Done 3592 out of 3592 | elapsed:   13.4s finished\n"
     ]
    },
    {
     "name": "stdout",
     "output_type": "stream",
     "text": [
      "20190523\r"
     ]
    },
    {
     "name": "stderr",
     "output_type": "stream",
     "text": [
      "[Parallel(n_jobs=16)]: Using backend LokyBackend with 16 concurrent workers.\n",
      "[Parallel(n_jobs=16)]: Done  40 tasks      | elapsed:    1.5s\n",
      "[Parallel(n_jobs=16)]: Done 164 tasks      | elapsed:    2.2s\n",
      "[Parallel(n_jobs=16)]: Done 416 tasks      | elapsed:    3.3s\n",
      "[Parallel(n_jobs=16)]: Done 740 tasks      | elapsed:    4.8s\n",
      "[Parallel(n_jobs=16)]: Done 1136 tasks      | elapsed:    6.5s\n",
      "[Parallel(n_jobs=16)]: Done 1968 tasks      | elapsed:    9.1s\n",
      "[Parallel(n_jobs=16)]: Done 3593 out of 3593 | elapsed:   14.0s finished\n"
     ]
    },
    {
     "name": "stdout",
     "output_type": "stream",
     "text": [
      "20190524\r"
     ]
    },
    {
     "name": "stderr",
     "output_type": "stream",
     "text": [
      "[Parallel(n_jobs=16)]: Using backend LokyBackend with 16 concurrent workers.\n",
      "[Parallel(n_jobs=16)]: Done  40 tasks      | elapsed:    1.5s\n",
      "[Parallel(n_jobs=16)]: Done 130 tasks      | elapsed:    2.1s\n",
      "[Parallel(n_jobs=16)]: Done 256 tasks      | elapsed:    3.0s\n",
      "[Parallel(n_jobs=16)]: Done 808 tasks      | elapsed:    5.0s\n",
      "[Parallel(n_jobs=16)]: Done 1600 tasks      | elapsed:    7.1s\n",
      "[Parallel(n_jobs=16)]: Done 2536 tasks      | elapsed:    9.8s\n",
      "[Parallel(n_jobs=16)]: Done 3564 out of 3595 | elapsed:   12.8s remaining:    0.1s\n",
      "[Parallel(n_jobs=16)]: Done 3595 out of 3595 | elapsed:   12.9s finished\n"
     ]
    },
    {
     "name": "stdout",
     "output_type": "stream",
     "text": [
      "20190527\r"
     ]
    },
    {
     "name": "stderr",
     "output_type": "stream",
     "text": [
      "[Parallel(n_jobs=16)]: Using backend LokyBackend with 16 concurrent workers.\n",
      "[Parallel(n_jobs=16)]: Done  40 tasks      | elapsed:    1.5s\n",
      "[Parallel(n_jobs=16)]: Done 130 tasks      | elapsed:    2.1s\n",
      "[Parallel(n_jobs=16)]: Done 256 tasks      | elapsed:    3.0s\n",
      "[Parallel(n_jobs=16)]: Done 532 tasks      | elapsed:    4.3s\n",
      "[Parallel(n_jobs=16)]: Done 976 tasks      | elapsed:    6.6s\n",
      "[Parallel(n_jobs=16)]: Done 2816 tasks      | elapsed:   11.6s\n",
      "[Parallel(n_jobs=16)]: Done 3598 out of 3598 | elapsed:   13.6s finished\n"
     ]
    },
    {
     "name": "stdout",
     "output_type": "stream",
     "text": [
      "20190528\r"
     ]
    },
    {
     "name": "stderr",
     "output_type": "stream",
     "text": [
      "[Parallel(n_jobs=16)]: Using backend LokyBackend with 16 concurrent workers.\n",
      "[Parallel(n_jobs=16)]: Done  40 tasks      | elapsed:    1.5s\n",
      "[Parallel(n_jobs=16)]: Done 130 tasks      | elapsed:    2.1s\n",
      "[Parallel(n_jobs=16)]: Done 368 tasks      | elapsed:    3.2s\n",
      "[Parallel(n_jobs=16)]: Done 692 tasks      | elapsed:    4.6s\n",
      "[Parallel(n_jobs=16)]: Done 1088 tasks      | elapsed:    6.3s\n",
      "[Parallel(n_jobs=16)]: Done 1824 tasks      | elapsed:    8.7s\n",
      "[Parallel(n_jobs=16)]: Done 3536 tasks      | elapsed:   14.1s\n",
      "[Parallel(n_jobs=16)]: Done 3597 out of 3597 | elapsed:   14.3s finished\n"
     ]
    },
    {
     "name": "stdout",
     "output_type": "stream",
     "text": [
      "20190529\r"
     ]
    },
    {
     "name": "stderr",
     "output_type": "stream",
     "text": [
      "[Parallel(n_jobs=16)]: Using backend LokyBackend with 16 concurrent workers.\n",
      "[Parallel(n_jobs=16)]: Done  40 tasks      | elapsed:    1.4s\n",
      "[Parallel(n_jobs=16)]: Done 130 tasks      | elapsed:    2.0s\n",
      "[Parallel(n_jobs=16)]: Done 368 tasks      | elapsed:    3.0s\n",
      "[Parallel(n_jobs=16)]: Done 1016 tasks      | elapsed:    5.0s\n",
      "[Parallel(n_jobs=16)]: Done 1808 tasks      | elapsed:    7.0s\n",
      "[Parallel(n_jobs=16)]: Done 2744 tasks      | elapsed:    9.7s\n",
      "[Parallel(n_jobs=16)]: Done 3600 out of 3600 | elapsed:   12.0s finished\n"
     ]
    },
    {
     "name": "stdout",
     "output_type": "stream",
     "text": [
      "20190530\r"
     ]
    },
    {
     "name": "stderr",
     "output_type": "stream",
     "text": [
      "[Parallel(n_jobs=16)]: Using backend LokyBackend with 16 concurrent workers.\n",
      "[Parallel(n_jobs=16)]: Done  40 tasks      | elapsed:    1.5s\n",
      "[Parallel(n_jobs=16)]: Done 180 tasks      | elapsed:    2.2s\n",
      "[Parallel(n_jobs=16)]: Done 432 tasks      | elapsed:    3.3s\n",
      "[Parallel(n_jobs=16)]: Done 756 tasks      | elapsed:    4.5s\n",
      "[Parallel(n_jobs=16)]: Done 1152 tasks      | elapsed:    7.0s\n",
      "[Parallel(n_jobs=16)]: Done 2656 tasks      | elapsed:   11.1s\n",
      "[Parallel(n_jobs=16)]: Done 3598 out of 3598 | elapsed:   14.2s finished\n"
     ]
    },
    {
     "name": "stdout",
     "output_type": "stream",
     "text": [
      "20190531\r"
     ]
    },
    {
     "name": "stderr",
     "output_type": "stream",
     "text": [
      "[Parallel(n_jobs=16)]: Using backend LokyBackend with 16 concurrent workers.\n",
      "[Parallel(n_jobs=16)]: Done  40 tasks      | elapsed:    1.5s\n",
      "[Parallel(n_jobs=16)]: Done 130 tasks      | elapsed:    2.1s\n",
      "[Parallel(n_jobs=16)]: Done 256 tasks      | elapsed:    3.0s\n",
      "[Parallel(n_jobs=16)]: Done 418 tasks      | elapsed:    4.2s\n",
      "[Parallel(n_jobs=16)]: Done 704 tasks      | elapsed:    5.7s\n",
      "[Parallel(n_jobs=16)]: Done 1824 tasks      | elapsed:    8.9s\n",
      "[Parallel(n_jobs=16)]: Done 3536 tasks      | elapsed:   14.1s\n",
      "[Parallel(n_jobs=16)]: Done 3599 out of 3599 | elapsed:   14.3s finished\n"
     ]
    },
    {
     "name": "stdout",
     "output_type": "stream",
     "text": [
      "20190603\r"
     ]
    },
    {
     "name": "stderr",
     "output_type": "stream",
     "text": [
      "[Parallel(n_jobs=16)]: Using backend LokyBackend with 16 concurrent workers.\n",
      "[Parallel(n_jobs=16)]: Done  40 tasks      | elapsed:    1.6s\n",
      "[Parallel(n_jobs=16)]: Done 130 tasks      | elapsed:    2.1s\n",
      "[Parallel(n_jobs=16)]: Done 288 tasks      | elapsed:    3.1s\n",
      "[Parallel(n_jobs=16)]: Done 612 tasks      | elapsed:    4.3s\n",
      "[Parallel(n_jobs=16)]: Done 1056 tasks      | elapsed:    5.9s\n",
      "[Parallel(n_jobs=16)]: Done 1992 tasks      | elapsed:    8.8s\n",
      "[Parallel(n_jobs=16)]: Done 3072 tasks      | elapsed:   12.3s\n",
      "[Parallel(n_jobs=16)]: Done 3595 out of 3595 | elapsed:   13.9s finished\n"
     ]
    },
    {
     "name": "stdout",
     "output_type": "stream",
     "text": [
      "20190604\r"
     ]
    },
    {
     "name": "stderr",
     "output_type": "stream",
     "text": [
      "[Parallel(n_jobs=16)]: Using backend LokyBackend with 16 concurrent workers.\n",
      "[Parallel(n_jobs=16)]: Done  40 tasks      | elapsed:    1.6s\n",
      "[Parallel(n_jobs=16)]: Done 130 tasks      | elapsed:    2.2s\n",
      "[Parallel(n_jobs=16)]: Done 336 tasks      | elapsed:    3.1s\n",
      "[Parallel(n_jobs=16)]: Done 984 tasks      | elapsed:    4.8s\n",
      "[Parallel(n_jobs=16)]: Done 1776 tasks      | elapsed:    8.1s\n",
      "[Parallel(n_jobs=16)]: Done 2712 tasks      | elapsed:   11.3s\n",
      "[Parallel(n_jobs=16)]: Done 3596 out of 3596 | elapsed:   14.2s finished\n"
     ]
    },
    {
     "name": "stdout",
     "output_type": "stream",
     "text": [
      "20190605\r"
     ]
    },
    {
     "name": "stderr",
     "output_type": "stream",
     "text": [
      "[Parallel(n_jobs=16)]: Using backend LokyBackend with 16 concurrent workers.\n",
      "[Parallel(n_jobs=16)]: Done  40 tasks      | elapsed:    1.5s\n",
      "[Parallel(n_jobs=16)]: Done 168 tasks      | elapsed:    2.0s\n",
      "[Parallel(n_jobs=16)]: Done 672 tasks      | elapsed:    3.2s\n",
      "[Parallel(n_jobs=16)]: Done 1320 tasks      | elapsed:    5.2s\n",
      "[Parallel(n_jobs=16)]: Done 2112 tasks      | elapsed:    7.6s\n",
      "[Parallel(n_jobs=16)]: Done 3048 tasks      | elapsed:   10.7s\n",
      "[Parallel(n_jobs=16)]: Done 3596 out of 3596 | elapsed:   12.3s finished\n"
     ]
    },
    {
     "name": "stdout",
     "output_type": "stream",
     "text": [
      "20190606\r"
     ]
    },
    {
     "name": "stderr",
     "output_type": "stream",
     "text": [
      "[Parallel(n_jobs=16)]: Using backend LokyBackend with 16 concurrent workers.\n",
      "[Parallel(n_jobs=16)]: Done  40 tasks      | elapsed:    1.5s\n",
      "[Parallel(n_jobs=16)]: Done 164 tasks      | elapsed:    2.2s\n",
      "[Parallel(n_jobs=16)]: Done 448 tasks      | elapsed:    3.0s\n",
      "[Parallel(n_jobs=16)]: Done 1680 tasks      | elapsed:    6.7s\n",
      "[Parallel(n_jobs=16)]: Done 3264 tasks      | elapsed:   11.5s\n",
      "[Parallel(n_jobs=16)]: Done 3599 out of 3599 | elapsed:   12.4s finished\n"
     ]
    },
    {
     "name": "stdout",
     "output_type": "stream",
     "text": [
      "20190610\r"
     ]
    },
    {
     "name": "stderr",
     "output_type": "stream",
     "text": [
      "[Parallel(n_jobs=16)]: Using backend LokyBackend with 16 concurrent workers.\n",
      "[Parallel(n_jobs=16)]: Done  40 tasks      | elapsed:    1.5s\n",
      "[Parallel(n_jobs=16)]: Done 130 tasks      | elapsed:    2.1s\n",
      "[Parallel(n_jobs=16)]: Done 256 tasks      | elapsed:    3.0s\n",
      "[Parallel(n_jobs=16)]: Done 436 tasks      | elapsed:    4.1s\n",
      "[Parallel(n_jobs=16)]: Done 848 tasks      | elapsed:    5.6s\n",
      "[Parallel(n_jobs=16)]: Done 1784 tasks      | elapsed:    8.6s\n",
      "[Parallel(n_jobs=16)]: Done 2864 tasks      | elapsed:   12.9s\n",
      "[Parallel(n_jobs=16)]: Done 3564 out of 3595 | elapsed:   15.1s remaining:    0.1s\n",
      "[Parallel(n_jobs=16)]: Done 3595 out of 3595 | elapsed:   15.2s finished\n"
     ]
    },
    {
     "name": "stdout",
     "output_type": "stream",
     "text": [
      "20190611\r"
     ]
    },
    {
     "name": "stderr",
     "output_type": "stream",
     "text": [
      "[Parallel(n_jobs=16)]: Using backend LokyBackend with 16 concurrent workers.\n",
      "[Parallel(n_jobs=16)]: Done  40 tasks      | elapsed:    1.1s\n",
      "[Parallel(n_jobs=16)]: Done 216 tasks      | elapsed:    1.7s\n",
      "[Parallel(n_jobs=16)]: Done 1168 tasks      | elapsed:    3.8s\n",
      "[Parallel(n_jobs=16)]: Done 2464 tasks      | elapsed:    6.5s\n",
      "[Parallel(n_jobs=16)]: Done 3544 tasks      | elapsed:    8.9s\n",
      "[Parallel(n_jobs=16)]: Done 3596 out of 3596 | elapsed:    9.0s finished\n"
     ]
    },
    {
     "name": "stdout",
     "output_type": "stream",
     "text": [
      "20190612\r"
     ]
    },
    {
     "name": "stderr",
     "output_type": "stream",
     "text": [
      "[Parallel(n_jobs=16)]: Using backend LokyBackend with 16 concurrent workers.\n",
      "[Parallel(n_jobs=16)]: Done  40 tasks      | elapsed:    1.1s\n",
      "[Parallel(n_jobs=16)]: Done 216 tasks      | elapsed:    1.7s\n"
     ]
    },
    {
     "ename": "KeyboardInterrupt",
     "evalue": "",
     "output_type": "error",
     "traceback": [
      "\u001b[0;31m---------------------------------------------------------------------------\u001b[0m",
      "\u001b[0;31mKeyboardInterrupt\u001b[0m                         Traceback (most recent call last)",
      "\u001b[0;32m<ipython-input-20-3b2af4053cf6>\u001b[0m in \u001b[0;36m<module>\u001b[0;34m\u001b[0m\n\u001b[1;32m      4\u001b[0m \u001b[0;32mfor\u001b[0m \u001b[0mdate\u001b[0m \u001b[0;32min\u001b[0m \u001b[0mdate_ls\u001b[0m\u001b[0;34m:\u001b[0m\u001b[0;34m\u001b[0m\u001b[0m\n\u001b[1;32m      5\u001b[0m     \u001b[0mprint\u001b[0m\u001b[0;34m(\u001b[0m\u001b[0mdate\u001b[0m\u001b[0;34m,\u001b[0m\u001b[0mend\u001b[0m\u001b[0;34m=\u001b[0m\u001b[0;34m\"\\r\"\u001b[0m\u001b[0;34m)\u001b[0m\u001b[0;34m\u001b[0m\u001b[0m\n\u001b[0;32m----> 6\u001b[0;31m     \u001b[0mdaily_data\u001b[0m\u001b[0;34m=\u001b[0m\u001b[0mget_daily_data\u001b[0m\u001b[0;34m(\u001b[0m\u001b[0mdate\u001b[0m\u001b[0;34m)\u001b[0m\u001b[0;34m\u001b[0m\u001b[0m\n\u001b[0m\u001b[1;32m      7\u001b[0m     \u001b[0msummary_df\u001b[0m\u001b[0;34m=\u001b[0m\u001b[0mpd\u001b[0m\u001b[0;34m.\u001b[0m\u001b[0mconcat\u001b[0m\u001b[0;34m(\u001b[0m\u001b[0;34m[\u001b[0m\u001b[0msummary_df\u001b[0m\u001b[0;34m,\u001b[0m\u001b[0mdaily_data\u001b[0m\u001b[0;34m]\u001b[0m\u001b[0;34m)\u001b[0m\u001b[0;34m\u001b[0m\u001b[0m\n\u001b[1;32m      8\u001b[0m \u001b[0;34m\u001b[0m\u001b[0m\n",
      "\u001b[0;32m<ipython-input-16-49e8cad07335>\u001b[0m in \u001b[0;36mget_daily_data\u001b[0;34m(date)\u001b[0m\n\u001b[1;32m     45\u001b[0m \u001b[0;34m\u001b[0m\u001b[0m\n\u001b[1;32m     46\u001b[0m     \u001b[0mresults\u001b[0m \u001b[0;34m=\u001b[0m \u001b[0mParallel\u001b[0m\u001b[0;34m(\u001b[0m\u001b[0mn_jobs\u001b[0m\u001b[0;34m=\u001b[0m\u001b[0;36m16\u001b[0m\u001b[0;34m,\u001b[0m \u001b[0mverbose\u001b[0m\u001b[0;34m=\u001b[0m\u001b[0;36m5\u001b[0m\u001b[0;34m,\u001b[0m \u001b[0mbackend\u001b[0m\u001b[0;34m=\u001b[0m\u001b[0;34m\"loky\"\u001b[0m\u001b[0;34m,\u001b[0m \u001b[0mbatch_size\u001b[0m\u001b[0;34m=\u001b[0m\u001b[0;34m'auto'\u001b[0m\u001b[0;34m)\u001b[0m\u001b[0;31m \u001b[0m\u001b[0;31m\\\u001b[0m\u001b[0;34m\u001b[0m\u001b[0m\n\u001b[0;32m---> 47\u001b[0;31m         \u001b[0;34m(\u001b[0m\u001b[0mdelayed\u001b[0m\u001b[0;34m(\u001b[0m\u001b[0mget_stk_data\u001b[0m\u001b[0;34m)\u001b[0m\u001b[0;34m(\u001b[0m\u001b[0msid\u001b[0m\u001b[0;34m,\u001b[0m \u001b[0mdate\u001b[0m\u001b[0;34m)\u001b[0m \u001b[0;32mfor\u001b[0m \u001b[0msid\u001b[0m \u001b[0;32min\u001b[0m \u001b[0mstk_ls\u001b[0m\u001b[0;34m)\u001b[0m\u001b[0;34m\u001b[0m\u001b[0m\n\u001b[0m\u001b[1;32m     48\u001b[0m     \u001b[0mdata\u001b[0m \u001b[0;34m=\u001b[0m \u001b[0mpd\u001b[0m\u001b[0;34m.\u001b[0m\u001b[0mconcat\u001b[0m\u001b[0;34m(\u001b[0m\u001b[0mresults\u001b[0m\u001b[0;34m)\u001b[0m\u001b[0;34m\u001b[0m\u001b[0m\n\u001b[1;32m     49\u001b[0m \u001b[0;34m\u001b[0m\u001b[0m\n",
      "\u001b[0;32m~/env/dev/lib/python3.6/site-packages/joblib/parallel.py\u001b[0m in \u001b[0;36m__call__\u001b[0;34m(self, iterable)\u001b[0m\n\u001b[1;32m   1014\u001b[0m \u001b[0;34m\u001b[0m\u001b[0m\n\u001b[1;32m   1015\u001b[0m             \u001b[0;32mwith\u001b[0m \u001b[0mself\u001b[0m\u001b[0;34m.\u001b[0m\u001b[0m_backend\u001b[0m\u001b[0;34m.\u001b[0m\u001b[0mretrieval_context\u001b[0m\u001b[0;34m(\u001b[0m\u001b[0;34m)\u001b[0m\u001b[0;34m:\u001b[0m\u001b[0;34m\u001b[0m\u001b[0m\n\u001b[0;32m-> 1016\u001b[0;31m                 \u001b[0mself\u001b[0m\u001b[0;34m.\u001b[0m\u001b[0mretrieve\u001b[0m\u001b[0;34m(\u001b[0m\u001b[0;34m)\u001b[0m\u001b[0;34m\u001b[0m\u001b[0m\n\u001b[0m\u001b[1;32m   1017\u001b[0m             \u001b[0;31m# Make sure that we get a last message telling us we are done\u001b[0m\u001b[0;34m\u001b[0m\u001b[0;34m\u001b[0m\u001b[0m\n\u001b[1;32m   1018\u001b[0m             \u001b[0melapsed_time\u001b[0m \u001b[0;34m=\u001b[0m \u001b[0mtime\u001b[0m\u001b[0;34m.\u001b[0m\u001b[0mtime\u001b[0m\u001b[0;34m(\u001b[0m\u001b[0;34m)\u001b[0m \u001b[0;34m-\u001b[0m \u001b[0mself\u001b[0m\u001b[0;34m.\u001b[0m\u001b[0m_start_time\u001b[0m\u001b[0;34m\u001b[0m\u001b[0m\n",
      "\u001b[0;32m~/env/dev/lib/python3.6/site-packages/joblib/parallel.py\u001b[0m in \u001b[0;36mretrieve\u001b[0;34m(self)\u001b[0m\n\u001b[1;32m    906\u001b[0m             \u001b[0;32mtry\u001b[0m\u001b[0;34m:\u001b[0m\u001b[0;34m\u001b[0m\u001b[0m\n\u001b[1;32m    907\u001b[0m                 \u001b[0;32mif\u001b[0m \u001b[0mgetattr\u001b[0m\u001b[0;34m(\u001b[0m\u001b[0mself\u001b[0m\u001b[0;34m.\u001b[0m\u001b[0m_backend\u001b[0m\u001b[0;34m,\u001b[0m \u001b[0;34m'supports_timeout'\u001b[0m\u001b[0;34m,\u001b[0m \u001b[0;32mFalse\u001b[0m\u001b[0;34m)\u001b[0m\u001b[0;34m:\u001b[0m\u001b[0;34m\u001b[0m\u001b[0m\n\u001b[0;32m--> 908\u001b[0;31m                     \u001b[0mself\u001b[0m\u001b[0;34m.\u001b[0m\u001b[0m_output\u001b[0m\u001b[0;34m.\u001b[0m\u001b[0mextend\u001b[0m\u001b[0;34m(\u001b[0m\u001b[0mjob\u001b[0m\u001b[0;34m.\u001b[0m\u001b[0mget\u001b[0m\u001b[0;34m(\u001b[0m\u001b[0mtimeout\u001b[0m\u001b[0;34m=\u001b[0m\u001b[0mself\u001b[0m\u001b[0;34m.\u001b[0m\u001b[0mtimeout\u001b[0m\u001b[0;34m)\u001b[0m\u001b[0;34m)\u001b[0m\u001b[0;34m\u001b[0m\u001b[0m\n\u001b[0m\u001b[1;32m    909\u001b[0m                 \u001b[0;32melse\u001b[0m\u001b[0;34m:\u001b[0m\u001b[0;34m\u001b[0m\u001b[0m\n\u001b[1;32m    910\u001b[0m                     \u001b[0mself\u001b[0m\u001b[0;34m.\u001b[0m\u001b[0m_output\u001b[0m\u001b[0;34m.\u001b[0m\u001b[0mextend\u001b[0m\u001b[0;34m(\u001b[0m\u001b[0mjob\u001b[0m\u001b[0;34m.\u001b[0m\u001b[0mget\u001b[0m\u001b[0;34m(\u001b[0m\u001b[0;34m)\u001b[0m\u001b[0;34m)\u001b[0m\u001b[0;34m\u001b[0m\u001b[0m\n",
      "\u001b[0;32m~/env/dev/lib/python3.6/site-packages/joblib/_parallel_backends.py\u001b[0m in \u001b[0;36mwrap_future_result\u001b[0;34m(future, timeout)\u001b[0m\n\u001b[1;32m    552\u001b[0m         AsyncResults.get from multiprocessing.\"\"\"\n\u001b[1;32m    553\u001b[0m         \u001b[0;32mtry\u001b[0m\u001b[0;34m:\u001b[0m\u001b[0;34m\u001b[0m\u001b[0m\n\u001b[0;32m--> 554\u001b[0;31m             \u001b[0;32mreturn\u001b[0m \u001b[0mfuture\u001b[0m\u001b[0;34m.\u001b[0m\u001b[0mresult\u001b[0m\u001b[0;34m(\u001b[0m\u001b[0mtimeout\u001b[0m\u001b[0;34m=\u001b[0m\u001b[0mtimeout\u001b[0m\u001b[0;34m)\u001b[0m\u001b[0;34m\u001b[0m\u001b[0m\n\u001b[0m\u001b[1;32m    555\u001b[0m         \u001b[0;32mexcept\u001b[0m \u001b[0mLokyTimeoutError\u001b[0m\u001b[0;34m:\u001b[0m\u001b[0;34m\u001b[0m\u001b[0m\n\u001b[1;32m    556\u001b[0m             \u001b[0;32mraise\u001b[0m \u001b[0mTimeoutError\u001b[0m\u001b[0;34m(\u001b[0m\u001b[0;34m)\u001b[0m\u001b[0;34m\u001b[0m\u001b[0m\n",
      "\u001b[0;32m/usr/local/lib/python3.6/concurrent/futures/_base.py\u001b[0m in \u001b[0;36mresult\u001b[0;34m(self, timeout)\u001b[0m\n\u001b[1;32m    425\u001b[0m                 \u001b[0;32mreturn\u001b[0m \u001b[0mself\u001b[0m\u001b[0;34m.\u001b[0m\u001b[0m__get_result\u001b[0m\u001b[0;34m(\u001b[0m\u001b[0;34m)\u001b[0m\u001b[0;34m\u001b[0m\u001b[0m\n\u001b[1;32m    426\u001b[0m \u001b[0;34m\u001b[0m\u001b[0m\n\u001b[0;32m--> 427\u001b[0;31m             \u001b[0mself\u001b[0m\u001b[0;34m.\u001b[0m\u001b[0m_condition\u001b[0m\u001b[0;34m.\u001b[0m\u001b[0mwait\u001b[0m\u001b[0;34m(\u001b[0m\u001b[0mtimeout\u001b[0m\u001b[0;34m)\u001b[0m\u001b[0;34m\u001b[0m\u001b[0m\n\u001b[0m\u001b[1;32m    428\u001b[0m \u001b[0;34m\u001b[0m\u001b[0m\n\u001b[1;32m    429\u001b[0m             \u001b[0;32mif\u001b[0m \u001b[0mself\u001b[0m\u001b[0;34m.\u001b[0m\u001b[0m_state\u001b[0m \u001b[0;32min\u001b[0m \u001b[0;34m[\u001b[0m\u001b[0mCANCELLED\u001b[0m\u001b[0;34m,\u001b[0m \u001b[0mCANCELLED_AND_NOTIFIED\u001b[0m\u001b[0;34m]\u001b[0m\u001b[0;34m:\u001b[0m\u001b[0;34m\u001b[0m\u001b[0m\n",
      "\u001b[0;32m/usr/local/lib/python3.6/threading.py\u001b[0m in \u001b[0;36mwait\u001b[0;34m(self, timeout)\u001b[0m\n\u001b[1;32m    293\u001b[0m         \u001b[0;32mtry\u001b[0m\u001b[0;34m:\u001b[0m    \u001b[0;31m# restore state no matter what (e.g., KeyboardInterrupt)\u001b[0m\u001b[0;34m\u001b[0m\u001b[0m\n\u001b[1;32m    294\u001b[0m             \u001b[0;32mif\u001b[0m \u001b[0mtimeout\u001b[0m \u001b[0;32mis\u001b[0m \u001b[0;32mNone\u001b[0m\u001b[0;34m:\u001b[0m\u001b[0;34m\u001b[0m\u001b[0m\n\u001b[0;32m--> 295\u001b[0;31m                 \u001b[0mwaiter\u001b[0m\u001b[0;34m.\u001b[0m\u001b[0macquire\u001b[0m\u001b[0;34m(\u001b[0m\u001b[0;34m)\u001b[0m\u001b[0;34m\u001b[0m\u001b[0m\n\u001b[0m\u001b[1;32m    296\u001b[0m                 \u001b[0mgotit\u001b[0m \u001b[0;34m=\u001b[0m \u001b[0;32mTrue\u001b[0m\u001b[0;34m\u001b[0m\u001b[0m\n\u001b[1;32m    297\u001b[0m             \u001b[0;32melse\u001b[0m\u001b[0;34m:\u001b[0m\u001b[0;34m\u001b[0m\u001b[0m\n",
      "\u001b[0;31mKeyboardInterrupt\u001b[0m: "
     ]
    }
   ],
   "source": [
    "date_ls=get_trade_dates(20190101,20191029)\n",
    "\n",
    "summary_df=pd.DataFrame()\n",
    "for date in date_ls:\n",
    "    print(date,end=\"\\r\")\n",
    "    daily_data=get_daily_data(date)\n",
    "    summary_df=pd.concat([summary_df,daily_data])\n",
    "    \n",
    "summary_df"
   ]
  },
  {
   "cell_type": "code",
   "execution_count": 24,
   "metadata": {},
   "outputs": [],
   "source": [
    "sid_date_df=new_summary_df.drop_duplicates(subset=(\"sid\",\"DataDate\"),keep=\"first\")[[\"sid\",\"DataDate\"]]\n",
    "sid_date_df.sort_values([\"DataDate\",\"sid\"],inplace=True)\n",
    "sid_date_df.reset_index(drop=True,inplace=True)\n",
    "sid_date_df.to_csv(r\"data/10mindecre_>2%_stocklist.csv\",index=False)"
   ]
  },
  {
   "cell_type": "code",
   "execution_count": 30,
   "metadata": {},
   "outputs": [],
   "source": [
    "sid_date_df.to_csv(r\"/share/intern_share/assign_1030/10mindecre_>2%_stocklist.csv\",index=False)"
   ]
  },
  {
   "cell_type": "code",
   "execution_count": 31,
   "metadata": {},
   "outputs": [
    {
     "data": {
      "text/html": [
       "<div>\n",
       "<style scoped>\n",
       "    .dataframe tbody tr th:only-of-type {\n",
       "        vertical-align: middle;\n",
       "    }\n",
       "\n",
       "    .dataframe tbody tr th {\n",
       "        vertical-align: top;\n",
       "    }\n",
       "\n",
       "    .dataframe thead th {\n",
       "        text-align: right;\n",
       "    }\n",
       "</style>\n",
       "<table border=\"1\" class=\"dataframe\">\n",
       "  <thead>\n",
       "    <tr style=\"text-align: right;\">\n",
       "      <th></th>\n",
       "      <th>sid</th>\n",
       "      <th>DataDate</th>\n",
       "    </tr>\n",
       "  </thead>\n",
       "  <tbody>\n",
       "    <tr>\n",
       "      <th>0</th>\n",
       "      <td>000017.SZ</td>\n",
       "      <td>20190102</td>\n",
       "    </tr>\n",
       "    <tr>\n",
       "      <th>1</th>\n",
       "      <td>000058.SZ</td>\n",
       "      <td>20190102</td>\n",
       "    </tr>\n",
       "    <tr>\n",
       "      <th>2</th>\n",
       "      <td>000069.SZ</td>\n",
       "      <td>20190102</td>\n",
       "    </tr>\n",
       "    <tr>\n",
       "      <th>3</th>\n",
       "      <td>000403.SZ</td>\n",
       "      <td>20190102</td>\n",
       "    </tr>\n",
       "    <tr>\n",
       "      <th>4</th>\n",
       "      <td>000409.SZ</td>\n",
       "      <td>20190102</td>\n",
       "    </tr>\n",
       "    <tr>\n",
       "      <th>5</th>\n",
       "      <td>000410.SZ</td>\n",
       "      <td>20190102</td>\n",
       "    </tr>\n",
       "    <tr>\n",
       "      <th>6</th>\n",
       "      <td>000525.SZ</td>\n",
       "      <td>20190102</td>\n",
       "    </tr>\n",
       "    <tr>\n",
       "      <th>7</th>\n",
       "      <td>000547.SZ</td>\n",
       "      <td>20190102</td>\n",
       "    </tr>\n",
       "    <tr>\n",
       "      <th>8</th>\n",
       "      <td>000551.SZ</td>\n",
       "      <td>20190102</td>\n",
       "    </tr>\n",
       "    <tr>\n",
       "      <th>9</th>\n",
       "      <td>000586.SZ</td>\n",
       "      <td>20190102</td>\n",
       "    </tr>\n",
       "    <tr>\n",
       "      <th>10</th>\n",
       "      <td>000592.SZ</td>\n",
       "      <td>20190102</td>\n",
       "    </tr>\n",
       "    <tr>\n",
       "      <th>11</th>\n",
       "      <td>000603.SZ</td>\n",
       "      <td>20190102</td>\n",
       "    </tr>\n",
       "    <tr>\n",
       "      <th>12</th>\n",
       "      <td>000605.SZ</td>\n",
       "      <td>20190102</td>\n",
       "    </tr>\n",
       "    <tr>\n",
       "      <th>13</th>\n",
       "      <td>000615.SZ</td>\n",
       "      <td>20190102</td>\n",
       "    </tr>\n",
       "    <tr>\n",
       "      <th>14</th>\n",
       "      <td>000622.SZ</td>\n",
       "      <td>20190102</td>\n",
       "    </tr>\n",
       "    <tr>\n",
       "      <th>15</th>\n",
       "      <td>000633.SZ</td>\n",
       "      <td>20190102</td>\n",
       "    </tr>\n",
       "    <tr>\n",
       "      <th>16</th>\n",
       "      <td>000656.SZ</td>\n",
       "      <td>20190102</td>\n",
       "    </tr>\n",
       "    <tr>\n",
       "      <th>17</th>\n",
       "      <td>000659.SZ</td>\n",
       "      <td>20190102</td>\n",
       "    </tr>\n",
       "    <tr>\n",
       "      <th>18</th>\n",
       "      <td>000661.SZ</td>\n",
       "      <td>20190102</td>\n",
       "    </tr>\n",
       "    <tr>\n",
       "      <th>19</th>\n",
       "      <td>000662.SZ</td>\n",
       "      <td>20190102</td>\n",
       "    </tr>\n",
       "    <tr>\n",
       "      <th>20</th>\n",
       "      <td>000681.SZ</td>\n",
       "      <td>20190102</td>\n",
       "    </tr>\n",
       "    <tr>\n",
       "      <th>21</th>\n",
       "      <td>000691.SZ</td>\n",
       "      <td>20190102</td>\n",
       "    </tr>\n",
       "    <tr>\n",
       "      <th>22</th>\n",
       "      <td>000753.SZ</td>\n",
       "      <td>20190102</td>\n",
       "    </tr>\n",
       "    <tr>\n",
       "      <th>23</th>\n",
       "      <td>000797.SZ</td>\n",
       "      <td>20190102</td>\n",
       "    </tr>\n",
       "    <tr>\n",
       "      <th>24</th>\n",
       "      <td>000856.SZ</td>\n",
       "      <td>20190102</td>\n",
       "    </tr>\n",
       "    <tr>\n",
       "      <th>25</th>\n",
       "      <td>000905.SZ</td>\n",
       "      <td>20190102</td>\n",
       "    </tr>\n",
       "    <tr>\n",
       "      <th>26</th>\n",
       "      <td>000912.SZ</td>\n",
       "      <td>20190102</td>\n",
       "    </tr>\n",
       "    <tr>\n",
       "      <th>27</th>\n",
       "      <td>000915.SZ</td>\n",
       "      <td>20190102</td>\n",
       "    </tr>\n",
       "    <tr>\n",
       "      <th>28</th>\n",
       "      <td>000923.SZ</td>\n",
       "      <td>20190102</td>\n",
       "    </tr>\n",
       "    <tr>\n",
       "      <th>29</th>\n",
       "      <td>000939.SZ</td>\n",
       "      <td>20190102</td>\n",
       "    </tr>\n",
       "    <tr>\n",
       "      <th>...</th>\n",
       "      <td>...</td>\n",
       "      <td>...</td>\n",
       "    </tr>\n",
       "    <tr>\n",
       "      <th>91550</th>\n",
       "      <td>603566.SH</td>\n",
       "      <td>20191029</td>\n",
       "    </tr>\n",
       "    <tr>\n",
       "      <th>91551</th>\n",
       "      <td>603569.SH</td>\n",
       "      <td>20191029</td>\n",
       "    </tr>\n",
       "    <tr>\n",
       "      <th>91552</th>\n",
       "      <td>603595.SH</td>\n",
       "      <td>20191029</td>\n",
       "    </tr>\n",
       "    <tr>\n",
       "      <th>91553</th>\n",
       "      <td>603598.SH</td>\n",
       "      <td>20191029</td>\n",
       "    </tr>\n",
       "    <tr>\n",
       "      <th>91554</th>\n",
       "      <td>603613.SH</td>\n",
       "      <td>20191029</td>\n",
       "    </tr>\n",
       "    <tr>\n",
       "      <th>91555</th>\n",
       "      <td>603658.SH</td>\n",
       "      <td>20191029</td>\n",
       "    </tr>\n",
       "    <tr>\n",
       "      <th>91556</th>\n",
       "      <td>603662.SH</td>\n",
       "      <td>20191029</td>\n",
       "    </tr>\n",
       "    <tr>\n",
       "      <th>91557</th>\n",
       "      <td>603666.SH</td>\n",
       "      <td>20191029</td>\n",
       "    </tr>\n",
       "    <tr>\n",
       "      <th>91558</th>\n",
       "      <td>603679.SH</td>\n",
       "      <td>20191029</td>\n",
       "    </tr>\n",
       "    <tr>\n",
       "      <th>91559</th>\n",
       "      <td>603703.SH</td>\n",
       "      <td>20191029</td>\n",
       "    </tr>\n",
       "    <tr>\n",
       "      <th>91560</th>\n",
       "      <td>603716.SH</td>\n",
       "      <td>20191029</td>\n",
       "    </tr>\n",
       "    <tr>\n",
       "      <th>91561</th>\n",
       "      <td>603717.SH</td>\n",
       "      <td>20191029</td>\n",
       "    </tr>\n",
       "    <tr>\n",
       "      <th>91562</th>\n",
       "      <td>603755.SH</td>\n",
       "      <td>20191029</td>\n",
       "    </tr>\n",
       "    <tr>\n",
       "      <th>91563</th>\n",
       "      <td>603773.SH</td>\n",
       "      <td>20191029</td>\n",
       "    </tr>\n",
       "    <tr>\n",
       "      <th>91564</th>\n",
       "      <td>603879.SH</td>\n",
       "      <td>20191029</td>\n",
       "    </tr>\n",
       "    <tr>\n",
       "      <th>91565</th>\n",
       "      <td>603881.SH</td>\n",
       "      <td>20191029</td>\n",
       "    </tr>\n",
       "    <tr>\n",
       "      <th>91566</th>\n",
       "      <td>603888.SH</td>\n",
       "      <td>20191029</td>\n",
       "    </tr>\n",
       "    <tr>\n",
       "      <th>91567</th>\n",
       "      <td>603899.SH</td>\n",
       "      <td>20191029</td>\n",
       "    </tr>\n",
       "    <tr>\n",
       "      <th>91568</th>\n",
       "      <td>603918.SH</td>\n",
       "      <td>20191029</td>\n",
       "    </tr>\n",
       "    <tr>\n",
       "      <th>91569</th>\n",
       "      <td>603927.SH</td>\n",
       "      <td>20191029</td>\n",
       "    </tr>\n",
       "    <tr>\n",
       "      <th>91570</th>\n",
       "      <td>603936.SH</td>\n",
       "      <td>20191029</td>\n",
       "    </tr>\n",
       "    <tr>\n",
       "      <th>91571</th>\n",
       "      <td>603959.SH</td>\n",
       "      <td>20191029</td>\n",
       "    </tr>\n",
       "    <tr>\n",
       "      <th>91572</th>\n",
       "      <td>603983.SH</td>\n",
       "      <td>20191029</td>\n",
       "    </tr>\n",
       "    <tr>\n",
       "      <th>91573</th>\n",
       "      <td>603990.SH</td>\n",
       "      <td>20191029</td>\n",
       "    </tr>\n",
       "    <tr>\n",
       "      <th>91574</th>\n",
       "      <td>603996.SH</td>\n",
       "      <td>20191029</td>\n",
       "    </tr>\n",
       "    <tr>\n",
       "      <th>91575</th>\n",
       "      <td>688010.SH</td>\n",
       "      <td>20191029</td>\n",
       "    </tr>\n",
       "    <tr>\n",
       "      <th>91576</th>\n",
       "      <td>688030.SH</td>\n",
       "      <td>20191029</td>\n",
       "    </tr>\n",
       "    <tr>\n",
       "      <th>91577</th>\n",
       "      <td>688098.SH</td>\n",
       "      <td>20191029</td>\n",
       "    </tr>\n",
       "    <tr>\n",
       "      <th>91578</th>\n",
       "      <td>688139.SH</td>\n",
       "      <td>20191029</td>\n",
       "    </tr>\n",
       "    <tr>\n",
       "      <th>91579</th>\n",
       "      <td>688388.SH</td>\n",
       "      <td>20191029</td>\n",
       "    </tr>\n",
       "  </tbody>\n",
       "</table>\n",
       "<p>91580 rows × 2 columns</p>\n",
       "</div>"
      ],
      "text/plain": [
       "             sid  DataDate\n",
       "0      000017.SZ  20190102\n",
       "1      000058.SZ  20190102\n",
       "2      000069.SZ  20190102\n",
       "3      000403.SZ  20190102\n",
       "4      000409.SZ  20190102\n",
       "5      000410.SZ  20190102\n",
       "6      000525.SZ  20190102\n",
       "7      000547.SZ  20190102\n",
       "8      000551.SZ  20190102\n",
       "9      000586.SZ  20190102\n",
       "10     000592.SZ  20190102\n",
       "11     000603.SZ  20190102\n",
       "12     000605.SZ  20190102\n",
       "13     000615.SZ  20190102\n",
       "14     000622.SZ  20190102\n",
       "15     000633.SZ  20190102\n",
       "16     000656.SZ  20190102\n",
       "17     000659.SZ  20190102\n",
       "18     000661.SZ  20190102\n",
       "19     000662.SZ  20190102\n",
       "20     000681.SZ  20190102\n",
       "21     000691.SZ  20190102\n",
       "22     000753.SZ  20190102\n",
       "23     000797.SZ  20190102\n",
       "24     000856.SZ  20190102\n",
       "25     000905.SZ  20190102\n",
       "26     000912.SZ  20190102\n",
       "27     000915.SZ  20190102\n",
       "28     000923.SZ  20190102\n",
       "29     000939.SZ  20190102\n",
       "...          ...       ...\n",
       "91550  603566.SH  20191029\n",
       "91551  603569.SH  20191029\n",
       "91552  603595.SH  20191029\n",
       "91553  603598.SH  20191029\n",
       "91554  603613.SH  20191029\n",
       "91555  603658.SH  20191029\n",
       "91556  603662.SH  20191029\n",
       "91557  603666.SH  20191029\n",
       "91558  603679.SH  20191029\n",
       "91559  603703.SH  20191029\n",
       "91560  603716.SH  20191029\n",
       "91561  603717.SH  20191029\n",
       "91562  603755.SH  20191029\n",
       "91563  603773.SH  20191029\n",
       "91564  603879.SH  20191029\n",
       "91565  603881.SH  20191029\n",
       "91566  603888.SH  20191029\n",
       "91567  603899.SH  20191029\n",
       "91568  603918.SH  20191029\n",
       "91569  603927.SH  20191029\n",
       "91570  603936.SH  20191029\n",
       "91571  603959.SH  20191029\n",
       "91572  603983.SH  20191029\n",
       "91573  603990.SH  20191029\n",
       "91574  603996.SH  20191029\n",
       "91575  688010.SH  20191029\n",
       "91576  688030.SH  20191029\n",
       "91577  688098.SH  20191029\n",
       "91578  688139.SH  20191029\n",
       "91579  688388.SH  20191029\n",
       "\n",
       "[91580 rows x 2 columns]"
      ]
     },
     "execution_count": 31,
     "metadata": {},
     "output_type": "execute_result"
    }
   ],
   "source": [
    "sid_date_df"
   ]
  },
  {
   "cell_type": "code",
   "execution_count": null,
   "metadata": {},
   "outputs": [],
   "source": [
    "import numpy as np\n",
    "import pandas as pd\n",
    "import os\n",
    "DATA_ROOT = \"/share/xfzhang/store_data/\"\n",
    "\n",
    "__all__ = ['trade_calendar', 'stk_description', 'idx_description', 'df_sid_change']\n",
    "\n",
    "\n",
    "def load_calandar_descr():\n",
    "    path = os.path.join(DATA_ROOT, 'base_data/calendar')\n",
    "    with open(path, 'r') as f:\n",
    "        dates = [line.strip() for line in f]\n",
    "    arr_calendar = np.array(dates).astype('i4')\n",
    "            \n",
    "    path = os.path.join(DATA_ROOT, 'base_data/stock_description')\n",
    "    with open(path, 'r') as f:\n",
    "        stk_descr = [line.strip().split(' ') for line in f]\n",
    "    df_stk_dscr = pd.DataFrame(stk_descr, columns=['sid', 'list_date', 'delist_date'])\n",
    "    df_stk_dscr['list_date'] = df_stk_dscr['list_date'].values.astype('i4')\n",
    "    df_stk_dscr['delist_date'] = df_stk_dscr['delist_date'].values.astype('i4')\n",
    "            \n",
    "    path = os.path.join(DATA_ROOT, 'base_data/index_description')\n",
    "    with open(path, 'r') as f:\n",
    "        idx_descr = [line.strip().split(' ') for line in f]\n",
    "    df_idx_dscr = pd.DataFrame(idx_descr, columns=['iid', 'list_date', 'expire_date'])\n",
    "    df_idx_dscr['list_date'] = df_idx_dscr['list_date'].values.astype('i4')\n",
    "    df_idx_dscr['expire_date'] = df_idx_dscr['expire_date'].values.astype('i4')\n",
    "    \n",
    "    path = os.path.join(DATA_ROOT, 'base_data/sid_change')\n",
    "    with open(path, 'r') as f:\n",
    "        sid_change = [line.strip().split(' ') for line in f]\n",
    "    df_sid_change = pd.DataFrame(sid_change, columns=['date', 'old_sid', 'new_sid'])\n",
    "    df_sid_change['date'] = df_sid_change['date'].values.astype('i4')\n",
    "            \n",
    "    return arr_calendar, df_stk_dscr, df_idx_dscr, df_sid_change\n",
    "\n",
    "arr_calendar, df_stk_dscr, df_idx_dscr, df_sid_change = load_calandar_descr()\n",
    "\n",
    "\n",
    "class TradeCalendar:\n",
    "    def __init__(self):\n",
    "        self.trade_dates = arr_calendar\n",
    "\n",
    "    def get_prev_trade_date(self, date: int, n=1):\n",
    "        pos = self.trade_dates.searchsorted(int(date))\n",
    "        if pos < n:\n",
    "            raise MemoryError\n",
    "        return self.trade_dates[pos-n]\n",
    "\n",
    "    def get_next_trade_date(self, date: int):\n",
    "        pos = self.trade_dates.searchsorted(int(date), side='right')\n",
    "        return self.trade_dates[pos]\n",
    "\n",
    "    def get_trade_dates(self, start_date, end_date):\n",
    "        s = np.searchsorted(self.trade_dates, int(start_date))\n",
    "        e = np.searchsorted(self.trade_dates, int(end_date), side='right')\n",
    "        return self.trade_dates[s:e].copy()\n",
    "    \n",
    "\n",
    "class StockDescription():\n",
    "    def __init__(self):\n",
    "        self.data = df_stk_dscr\n",
    "        \n",
    "    def get_dates_sids(self, start_date, end_date=None, n=0):  #list date>=n, not include start_date\n",
    "        end_date = start_date if end_date is None else end_date\n",
    "        start_date, end_date = int(start_date), int(end_date)\n",
    "        s_pos = np.searchsorted(trade_calendar.trade_dates, start_date)\n",
    "        e_pos = np.searchsorted(trade_calendar.trade_dates, end_date, side='right') - 1\n",
    "        assert s_pos >= n and s_pos <= e_pos\n",
    "        start_date0 = trade_calendar.trade_dates[s_pos - n]\n",
    "        end_date0 = trade_calendar.trade_dates[e_pos - n]\n",
    "        \n",
    "        df_raw = self.data\n",
    "        unique_dates = trade_calendar.get_trade_dates(start_date0, end_date)\n",
    "        df = df_raw[(df_raw.list_date <= end_date0) & (df_raw.delist_date > start_date)]\n",
    "        unique_sids = df.sid.values.astype('U9')\n",
    "        \n",
    "        arr = np.zeros([len(unique_dates), len(unique_sids)], dtype='i4')\n",
    "        pos = np.searchsorted(unique_sids, df.sid)\n",
    "        pos_up = np.searchsorted(unique_dates, df.list_date)\n",
    "        pos_dn = np.searchsorted(unique_dates, df.delist_date)\n",
    "        for i in range(len(df)):\n",
    "            #if pos_up[i] + n < len(arr):\n",
    "            arr[pos_up[i] + n, pos[i]] += 1\n",
    "            if pos_dn[i] < len(arr):\n",
    "                arr[pos_dn[i], pos[i]] -= 1\n",
    "        \n",
    "        arr_cum = np.cumsum(arr, axis=0)\n",
    "        dates_pos, sids_pos = np.where(arr_cum[n:]>=1)\n",
    "        # dates = unique_dates[dates_pos]\n",
    "        # sids = unique_sids[sids_pos]\n",
    "        return unique_dates[n:], unique_sids, dates_pos, sids_pos\n",
    "\n",
    "\n",
    "class IndexDescription:\n",
    "    def __init__(self):\n",
    "        self.data = df_idx_dscr\n",
    "\n",
    "    def get_dates_iids(self, start_date, end_date=None):\n",
    "        end_date = start_date if end_date is None else end_date\n",
    "        start_date, end_date = int(start_date), int(end_date)\n",
    "        df_raw = self.data\n",
    "        unique_dates = trade_calendar.get_trade_dates(start_date, end_date)\n",
    "        df = df_raw[(df_raw.list_date <= end_date) & (df_raw.expire_date > start_date)]\n",
    "        unique_iids = df.iid.values.astype('U9')\n",
    "        \n",
    "        arr = np.zeros([len(unique_dates), len(unique_iids)], dtype='i4')\n",
    "        pos = np.searchsorted(unique_iids, df.iid)\n",
    "        pos_up = np.searchsorted(unique_dates, df.list_date)\n",
    "        pos_dn = np.searchsorted(unique_dates, df.expire_date)\n",
    "        for i in range(len(df)):\n",
    "            if pos_up[i] < len(arr):\n",
    "                arr[pos_up[i], pos[i]] += 1\n",
    "            if pos_dn[i] < len(arr):\n",
    "                arr[pos_dn[i], pos[i]] -= 1\n",
    "        \n",
    "        arr_cum = np.cumsum(arr, axis=0)\n",
    "        dates_pos, iids_pos = np.where(arr_cum>=1)\n",
    "        # dates = unique_dates[dates_pos]\n",
    "        # iids = unique_iids[iids_pos]\n",
    "        return unique_dates, unique_iids, dates_pos, iids_pos  \n",
    "\n",
    "    \n",
    "trade_calendar = TradeCalendar()\n",
    "stk_description = StockDescription()\n",
    "idx_description = IndexDescription()\n",
    "\n",
    "if __name__ == '__main__':\n",
    "    _, sids = stk_description.get_sids('20181228')\n",
    "    _, iids = idx_description.get_iids('20181228')\n",
    "    print(len(sids), len(iids))"
   ]
  },
  {
   "cell_type": "code",
   "execution_count": 5,
   "metadata": {},
   "outputs": [],
   "source": [
    "import numpy as np\n",
    "import pandas as pd\n",
    "import os\n",
    "import bcolz\n",
    "\n",
    "\n",
    "col_dtype_dflt = [('date', 'i4', 0), ('sid', 'S9', b'000000000'),  ('time', 'i4', 0),\n",
    "                  \n",
    "                  ('pre_close', 'f8', np.nan), ('open', 'f8', np.nan), ('high', 'f8', np.nan), \n",
    "                  ('low', 'f8', np.nan), ('close', 'f8', np.nan), ('amount', 'f8', np.nan), ('vwap', 'f8', np.nan),\n",
    "                  \n",
    "                  ('amount_mean', 'f8', 0.0), ('amount_std', 'f8', 0.0),  # ('trans_num', 'i8', 0), \n",
    "                  ('ask_id_amount_mean', 'f8', 0.0), ('ask_id_amount_std', 'f8', 0.0),  # ('ask_id_amount_mean', 'f8', 0.0), ('bid_id_trans_num', 'i8', 0), \n",
    "                  ('bid_id_amount_mean', 'f8', 0.0), ('bid_id_amount_std', 'f8', 0.0),\n",
    "                  \n",
    "                  ('act_ask_amount_sum', 'i8', 0),  ('act_ask_amount_mean', 'f8', 0.0), ('act_ask_amount_std', 'f8', 0.0),\n",
    "                  ('act_bid_amount_sum', 'i8', 0),  ('act_bid_amount_mean', 'f8', 0.0), ('act_bid_amount_std', 'f8', 0.0),\n",
    "                  ('act_ask_id_amount_mean', 'f8', 0.0), ('act_ask_id_amount_std', 'f8', 0.0),\n",
    "                  ('act_bid_id_amount_mean', 'f8', 0.0), ('act_bid_id_amount_std', 'f8', 0.0),\n",
    "                  \n",
    "                  ('tot_ask_amount1', 'f8', np.nan), ('avg_ask_price1', 'f8', np.nan),\n",
    "                  ('tot_bid_amount1', 'f8', np.nan), ('avg_bid_price1', 'f8', np.nan),\n",
    "                  ('tot_ask_amount2', 'f8', np.nan), ('avg_ask_price2', 'f8', np.nan),\n",
    "                  ('tot_bid_amount2', 'f8', np.nan), ('avg_bid_price2', 'f8', np.nan),\n",
    "                  ('tot_ask_amount5', 'f8', np.nan), ('avg_ask_price5', 'f8', np.nan),\n",
    "                  ('tot_bid_amount5', 'f8', np.nan), ('avg_bid_price5', 'f8', np.nan),\n",
    "                  ('tot_ask_amount10', 'f8', np.nan), ('avg_ask_price10', 'f8', np.nan),\n",
    "                  ('tot_bid_amount10', 'f8', np.nan), ('avg_bid_price10', 'f8', np.nan),\n",
    "                  ('tot_ask_amount', 'f8', np.nan), ('avg_ask_price', 'f8', np.nan),\n",
    "                  ('tot_bid_amount', 'f8', np.nan), ('avg_bid_price', 'f8', np.nan),\n",
    "                  \n",
    "                  ('close_suspend', 'i4', 0), ('close_limit', 'i4', 0), ('all_limit', 'i4', 0),\n",
    "                 ]\n",
    "\n",
    "col_dtype_dflt_idx = [('date', 'i4', 0), ('iid', 'S9', b'000000000'),  ('time', 'i4', 0),\n",
    "                  \n",
    "                  ('pre_close', 'f8', np.nan), ('open', 'f8', np.nan), ('high', 'f8', np.nan), \n",
    "                  ('low', 'f8', np.nan), ('close', 'f8', np.nan), ('volume', 'f8', np.nan), ('amount', 'f8', np.nan),\n",
    "                 ]\n",
    "\n",
    "\n",
    "def get_db(start_date, end_date, cols=None): \n",
    "    path = f'{DATA_ROOT}/bcolz_data/1d/stock_data'\n",
    "    table = bcolz.open(path, mode='r')\n",
    "    dates = table['date']\n",
    "    columns = [ele for ele in table.names if ele != '_id']  # bcolz\n",
    "    s = np.searchsorted(dates, int(start_date))\n",
    "    e = np.searchsorted(dates, int(end_date), side='right')\n",
    "    if cols is not None:\n",
    "        assert len(set(cols).difference(columns)) == 0\n",
    "        cols = [ele for ele in columns if ele in ['sid', 'date'] + cols]\n",
    "    else:\n",
    "        cols = columns\n",
    "    df = pd.DataFrame(table[cols][s:e])\n",
    "    df.sid = df.sid.values.astype('U9')\n",
    "    return df\n",
    "\n",
    "\n",
    "def get_idx_db(start_date, end_date, cols=None): \n",
    "    path = f'{DATA_ROOT}/bcolz_data/1d/index_data'\n",
    "    table = bcolz.open(path, mode='r')\n",
    "    dates = table['date']\n",
    "    columns = [ele for ele in table.names if ele != '_id']  # bcolz\n",
    "    s = np.searchsorted(dates, int(start_date))\n",
    "    e = np.searchsorted(dates, int(end_date), side='right')\n",
    "    if cols is not None:\n",
    "        assert len(set(cols).difference(columns)) == 0\n",
    "        cols = [ele for ele in columns if ele in ['iid', 'date'] + cols]\n",
    "    else:\n",
    "        cols = columns\n",
    "    df = pd.DataFrame(table[cols][s:e])\n",
    "    df.iid = df.iid.values.astype('U9')\n",
    "    return df\n",
    "\n",
    "\n",
    "def get_mb(start_date, end_date,  freq='15m', fields=None): \n",
    "    trade_dates = trade_calendar.get_trade_dates(start_date, end_date)\n",
    "    path = f\"{DATA_ROOT}/np_data/{freq}/stock_data\"\n",
    "    dtype = [(ele[0], ele[1]) for ele in col_dtype_dflt]\n",
    "    arr_all = []\n",
    "    if fields is None:\n",
    "        fields = [ele[0] for ele in dtype]\n",
    "    fields2 = [ele[0] for ele in dtype if ele[0] in fields+['date', 'sid', 'time']]\n",
    "    for i, date in enumerate(trade_dates):\n",
    "        year = date // 10000\n",
    "        path2 = f\"{path}/{year}/{date}.dat\"\n",
    "        arr = np.memmap(path2, dtype=dtype, mode='r')\n",
    "        arr_all.append(arr[fields2])\n",
    "    arr_all = np.concatenate(arr_all)\n",
    "    return arr_all\n",
    "\n",
    "def get_idx_mb(start_date, end_date,  freq='15m', fields=None): \n",
    "    trade_dates = trade_calendar.get_trade_dates(start_date, end_date)\n",
    "    path = f\"{DATA_ROOT}/np_data/{freq}/index_data\"\n",
    "    dtype = [(ele[0], ele[1]) for ele in col_dtype_dflt_idx]\n",
    "    arr_all = []\n",
    "    if fields is None:\n",
    "        fields = [ele[0] for ele in dtype]\n",
    "    fields2 = [ele[0] for ele in dtype if ele[0] in fields+['date', 'iid', 'time']]\n",
    "    for i, date in enumerate(trade_dates):\n",
    "        year = date // 10000\n",
    "        path2 = f\"{path}/{year}/{date}.dat\"\n",
    "        arr = np.memmap(path2, dtype=dtype, mode='r')\n",
    "        arr_all.append(arr[fields2])\n",
    "    arr_all = np.concatenate(arr_all)\n",
    "    return arr_all"
   ]
  },
  {
   "cell_type": "code",
   "execution_count": null,
   "metadata": {},
   "outputs": [],
   "source": []
  }
 ],
 "metadata": {
  "kernelspec": {
   "display_name": "Python 3",
   "language": "python",
   "name": "python3"
  },
  "language_info": {
   "codemirror_mode": {
    "name": "ipython",
    "version": 3
   },
   "file_extension": ".py",
   "mimetype": "text/x-python",
   "name": "python",
   "nbconvert_exporter": "python",
   "pygments_lexer": "ipython3",
   "version": "3.6.5"
  }
 },
 "nbformat": 4,
 "nbformat_minor": 4
}
